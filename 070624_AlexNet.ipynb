{
  "nbformat": 4,
  "nbformat_minor": 0,
  "metadata": {
    "colab": {
      "provenance": [],
      "gpuType": "T4",
      "authorship_tag": "ABX9TyNcxS9Hi9l2hPZYYo01HGNQ",
      "include_colab_link": true
    },
    "kernelspec": {
      "name": "python3",
      "display_name": "Python 3"
    },
    "language_info": {
      "name": "python"
    },
    "accelerator": "GPU"
  },
  "cells": [
    {
      "cell_type": "markdown",
      "metadata": {
        "id": "view-in-github",
        "colab_type": "text"
      },
      "source": [
        "<a href=\"https://colab.research.google.com/github/szeshiang/Advanced-Computer-Vision/blob/main/070624_AlexNet.ipynb\" target=\"_parent\"><img src=\"https://colab.research.google.com/assets/colab-badge.svg\" alt=\"Open In Colab\"/></a>"
      ]
    },
    {
      "cell_type": "code",
      "execution_count": 76,
      "metadata": {
        "colab": {
          "base_uri": "https://localhost:8080/"
        },
        "id": "u1sJoSAqUz0Z",
        "outputId": "a3139626-5e77-445f-b0a6-c08eb4ce0491"
      },
      "outputs": [
        {
          "output_type": "stream",
          "name": "stdout",
          "text": [
            "library imported\n"
          ]
        }
      ],
      "source": [
        "# import the library\n",
        "from tensorflow.keras.models import Sequential\n",
        "from tensorflow.keras.layers import Conv2D,AveragePooling2D,Flatten,Dense,MaxPool2D, BatchNormalization,Dropout\n",
        "from tensorflow.keras.datasets import mnist\n",
        "print('library imported')"
      ]
    },
    {
      "cell_type": "code",
      "source": [
        "# load and preprocess the mnist dataset\n",
        "(X_train,y_train),(X_test,y_test)=mnist.load_data()"
      ],
      "metadata": {
        "id": "Rnyh65GSV4fX"
      },
      "execution_count": 77,
      "outputs": []
    },
    {
      "cell_type": "code",
      "source": [
        "X_train.shape"
      ],
      "metadata": {
        "colab": {
          "base_uri": "https://localhost:8080/"
        },
        "id": "3vm3ptKsWAKf",
        "outputId": "85510d07-36e7-403c-9d63-704c5b0ad065"
      },
      "execution_count": 78,
      "outputs": [
        {
          "output_type": "execute_result",
          "data": {
            "text/plain": [
              "(60000, 28, 28)"
            ]
          },
          "metadata": {},
          "execution_count": 78
        }
      ]
    },
    {
      "cell_type": "code",
      "source": [
        "X_train=X_train.reshape(-1,28,28,1).astype('float32')/255.0\n",
        "X_test=X_test.reshape(-1,28,28,1).astype('float32')/255.0"
      ],
      "metadata": {
        "id": "Y5c2Yk0zWP9s"
      },
      "execution_count": 79,
      "outputs": []
    },
    {
      "cell_type": "code",
      "source": [
        "X_train.shape"
      ],
      "metadata": {
        "colab": {
          "base_uri": "https://localhost:8080/"
        },
        "id": "21MNgNhoWc3e",
        "outputId": "c26bcb08-f098-4296-e4ed-9395434fd83b"
      },
      "execution_count": 80,
      "outputs": [
        {
          "output_type": "execute_result",
          "data": {
            "text/plain": [
              "(60000, 28, 28, 1)"
            ]
          },
          "metadata": {},
          "execution_count": 80
        }
      ]
    },
    {
      "cell_type": "code",
      "source": [
        "y_train[0:5]"
      ],
      "metadata": {
        "colab": {
          "base_uri": "https://localhost:8080/"
        },
        "id": "3Diqh9raWe3A",
        "outputId": "3f140072-6dfe-4835-eac7-f09e43b5520b"
      },
      "execution_count": 81,
      "outputs": [
        {
          "output_type": "execute_result",
          "data": {
            "text/plain": [
              "array([5, 0, 4, 1, 9], dtype=uint8)"
            ]
          },
          "metadata": {},
          "execution_count": 81
        }
      ]
    },
    {
      "cell_type": "code",
      "source": [
        "from tensorflow.keras.utils import to_categorical\n",
        "y_train=to_categorical(y_train,10)\n",
        "y_test=to_categorical(y_test,10)"
      ],
      "metadata": {
        "id": "aY1gDILPWxUf"
      },
      "execution_count": 82,
      "outputs": []
    },
    {
      "cell_type": "code",
      "source": [
        "y_train[0:5]"
      ],
      "metadata": {
        "colab": {
          "base_uri": "https://localhost:8080/"
        },
        "id": "R4I7_NFDW7ss",
        "outputId": "d8e2b413-97b2-43d2-98f4-5242dc067b51"
      },
      "execution_count": 83,
      "outputs": [
        {
          "output_type": "execute_result",
          "data": {
            "text/plain": [
              "array([[0., 0., 0., 0., 0., 1., 0., 0., 0., 0.],\n",
              "       [1., 0., 0., 0., 0., 0., 0., 0., 0., 0.],\n",
              "       [0., 0., 0., 0., 1., 0., 0., 0., 0., 0.],\n",
              "       [0., 1., 0., 0., 0., 0., 0., 0., 0., 0.],\n",
              "       [0., 0., 0., 0., 0., 0., 0., 0., 0., 1.]], dtype=float32)"
            ]
          },
          "metadata": {},
          "execution_count": 83
        }
      ]
    },
    {
      "cell_type": "code",
      "source": [
        "# Define the AlexNet-like model for MNIST\n",
        "def alexnet_mnist():\n",
        "    model=Sequential()\n",
        "\n",
        "\n",
        "    # Conv1\n",
        "    model.add(Conv2D(96, kernel_size=(3, 3), strides=(1, 1), activation='relu', input_shape=(28, 28, 1), padding='same'))\n",
        "    model.add(BatchNormalization())\n",
        "    model.add(MaxPool2D(pool_size=(2, 2), strides=(2, 2)))\n",
        "\n",
        "\n",
        "    # Conv2\n",
        "    model.add(Conv2D(256, kernel_size=(3, 3), strides=(1, 1), activation='relu', padding='same'))\n",
        "    model.add(BatchNormalization())\n",
        "    model.add(MaxPool2D(pool_size=(2, 2), strides=(2, 2)))\n",
        "\n",
        "\n",
        "    # Conv3\n",
        "    model.add(Conv2D(384, kernel_size=(3, 3), strides=(1, 1), activation='relu', padding='same'))\n",
        "\n",
        "\n",
        "    # Conv4\n",
        "    model.add(Conv2D(384, kernel_size=(3, 3), strides=(1, 1), activation='relu', padding='same'))\n",
        "\n",
        "\n",
        "    # Conv5\n",
        "    model.add(Conv2D(256, kernel_size=(3, 3), strides=(1, 1), activation='relu', padding='same'))\n",
        "    model.add(MaxPool2D(pool_size=(2, 2), strides=(2, 2)))\n",
        "\n",
        "\n",
        "    # Flatten and Fully Connected Layers\n",
        "    model.add(Flatten())\n",
        "    model.add(Dense(4096, activation='relu'))\n",
        "    model.add(Dropout(0.5))\n",
        "    model.add(Dense(4096, activation='relu'))\n",
        "    model.add(Dropout(0.5))\n",
        "\n",
        "\n",
        "    # Output Layer\n",
        "    model.add(Dense(10, activation='softmax'))\n",
        "\n",
        "    return model"
      ],
      "metadata": {
        "id": "sr0vupMCW_fy"
      },
      "execution_count": 86,
      "outputs": []
    },
    {
      "cell_type": "code",
      "source": [
        "# Call the function to create the model\n",
        "model = alexnet_mnist()\n",
        "model.summary() # Moved outside the function"
      ],
      "metadata": {
        "colab": {
          "base_uri": "https://localhost:8080/"
        },
        "id": "7H_uEBx7eYJQ",
        "outputId": "14305808-7aae-4853-d36d-9e35ca983130"
      },
      "execution_count": 87,
      "outputs": [
        {
          "output_type": "stream",
          "name": "stdout",
          "text": [
            "Model: \"sequential\"\n",
            "_________________________________________________________________\n",
            " Layer (type)                Output Shape              Param #   \n",
            "=================================================================\n",
            " conv2d (Conv2D)             (None, 28, 28, 96)        960       \n",
            "                                                                 \n",
            " batch_normalization (Batch  (None, 28, 28, 96)        384       \n",
            " Normalization)                                                  \n",
            "                                                                 \n",
            " max_pooling2d (MaxPooling2  (None, 14, 14, 96)        0         \n",
            " D)                                                              \n",
            "                                                                 \n",
            " conv2d_1 (Conv2D)           (None, 14, 14, 256)       221440    \n",
            "                                                                 \n",
            " batch_normalization_1 (Bat  (None, 14, 14, 256)       1024      \n",
            " chNormalization)                                                \n",
            "                                                                 \n",
            " max_pooling2d_1 (MaxPoolin  (None, 7, 7, 256)         0         \n",
            " g2D)                                                            \n",
            "                                                                 \n",
            " conv2d_2 (Conv2D)           (None, 7, 7, 384)         885120    \n",
            "                                                                 \n",
            " conv2d_3 (Conv2D)           (None, 7, 7, 384)         1327488   \n",
            "                                                                 \n",
            " conv2d_4 (Conv2D)           (None, 7, 7, 256)         884992    \n",
            "                                                                 \n",
            " max_pooling2d_2 (MaxPoolin  (None, 3, 3, 256)         0         \n",
            " g2D)                                                            \n",
            "                                                                 \n",
            " flatten (Flatten)           (None, 2304)              0         \n",
            "                                                                 \n",
            " dense (Dense)               (None, 4096)              9441280   \n",
            "                                                                 \n",
            " dropout (Dropout)           (None, 4096)              0         \n",
            "                                                                 \n",
            " dense_1 (Dense)             (None, 4096)              16781312  \n",
            "                                                                 \n",
            " dropout_1 (Dropout)         (None, 4096)              0         \n",
            "                                                                 \n",
            " dense_2 (Dense)             (None, 10)                40970     \n",
            "                                                                 \n",
            "=================================================================\n",
            "Total params: 29584970 (112.86 MB)\n",
            "Trainable params: 29584266 (112.86 MB)\n",
            "Non-trainable params: 704 (2.75 KB)\n",
            "_________________________________________________________________\n"
          ]
        }
      ]
    },
    {
      "cell_type": "code",
      "source": [
        "model.compile(optimizer='adam',loss='categorical_crossentropy',metrics=['accuracy'])\n",
        "print('model is compiled')"
      ],
      "metadata": {
        "colab": {
          "base_uri": "https://localhost:8080/"
        },
        "id": "RnLm7jQRYdzg",
        "outputId": "e825ccc4-8e30-4f57-b44b-241d3e80eab6"
      },
      "execution_count": 88,
      "outputs": [
        {
          "output_type": "stream",
          "name": "stdout",
          "text": [
            "model is compiled\n"
          ]
        }
      ]
    },
    {
      "cell_type": "code",
      "source": [
        "def lr_schedule(epoch,lr):\n",
        "  if epoch<5:\n",
        "    return lr\n",
        "  else:\n",
        "    return lr*tf.math.exp(-0.1)\n",
        "\n",
        "from tensorflow.keras.callbacks import LearningRateScheduler, ModelCheckpoint\n",
        "lr_scheduler=LearningRateScheduler(lr_schedule)\n"
      ],
      "metadata": {
        "id": "svFoKHO3Yse3"
      },
      "execution_count": 90,
      "outputs": []
    },
    {
      "cell_type": "code",
      "source": [
        "# Data Augmentation\n",
        "from tensorflow.keras.preprocessing.image import ImageDataGenerator\n",
        "datagen=ImageDataGenerator(rotation_range=10,zoom_range=0.1,width_shift_range=0.1,height_shift_range=0.1)"
      ],
      "metadata": {
        "id": "iOJDj34nemKM"
      },
      "execution_count": 91,
      "outputs": []
    },
    {
      "cell_type": "code",
      "source": [
        "# use modelcheckpoint\n",
        "checkpoint_callback=ModelCheckpoint(filepath='alexnet_model.h5',\n",
        "                                    monitor='val_accuracy',\n",
        "                                    save_best_only=True,\n",
        "                                    mode='max',\n",
        "                                    save_freq='epoch')"
      ],
      "metadata": {
        "id": "msDkZgSCenuM"
      },
      "execution_count": 92,
      "outputs": []
    },
    {
      "cell_type": "code",
      "source": [
        "# Train the model\n",
        "\n",
        "history=model.fit(datagen.flow(X_train,y_train,batch_size=64),epochs=5,\n",
        "                  validation_data=(X_test,y_test),\n",
        "                  callbacks=[lr_scheduler,checkpoint_callback])"
      ],
      "metadata": {
        "colab": {
          "base_uri": "https://localhost:8080/"
        },
        "id": "avwqb2kbesx0",
        "outputId": "26d7876c-64cf-4865-b400-a3748950bdd1"
      },
      "execution_count": 94,
      "outputs": [
        {
          "output_type": "stream",
          "name": "stdout",
          "text": [
            "Epoch 1/5\n",
            "938/938 [==============================] - ETA: 0s - loss: 0.2803 - accuracy: 0.9179"
          ]
        },
        {
          "output_type": "stream",
          "name": "stderr",
          "text": [
            "/usr/local/lib/python3.10/dist-packages/keras/src/engine/training.py:3103: UserWarning: You are saving your model as an HDF5 file via `model.save()`. This file format is considered legacy. We recommend using instead the native Keras format, e.g. `model.save('my_model.keras')`.\n",
            "  saving_api.save_model(\n"
          ]
        },
        {
          "output_type": "stream",
          "name": "stdout",
          "text": [
            "\b\b\b\b\b\b\b\b\b\b\b\b\b\b\b\b\b\b\b\b\b\b\b\b\b\b\b\b\b\b\b\b\b\b\b\b\b\b\b\b\b\b\b\b\b\b\b\b\b\b\b\b\b\b\b\b\b\b\b\b\b\b\b\b\b\b\b\b\b\b\b\b\b\b\b\b\b\b\b\b\b\b\b\b\r938/938 [==============================] - 46s 40ms/step - loss: 0.2803 - accuracy: 0.9179 - val_loss: 0.0999 - val_accuracy: 0.9696 - lr: 0.0010\n",
            "Epoch 2/5\n",
            "938/938 [==============================] - 33s 35ms/step - loss: 0.1206 - accuracy: 0.9686 - val_loss: 0.0936 - val_accuracy: 0.9744 - lr: 0.0010\n",
            "Epoch 3/5\n",
            "938/938 [==============================] - 33s 35ms/step - loss: 0.1096 - accuracy: 0.9730 - val_loss: 0.0713 - val_accuracy: 0.9819 - lr: 0.0010\n",
            "Epoch 4/5\n",
            "938/938 [==============================] - 33s 35ms/step - loss: 0.1003 - accuracy: 0.9760 - val_loss: 0.0643 - val_accuracy: 0.9849 - lr: 0.0010\n",
            "Epoch 5/5\n",
            "938/938 [==============================] - 30s 32ms/step - loss: 0.0918 - accuracy: 0.9782 - val_loss: 0.0868 - val_accuracy: 0.9811 - lr: 0.0010\n"
          ]
        }
      ]
    },
    {
      "cell_type": "code",
      "source": [
        "# evaluate the model\n",
        "test_loss,test_acc=model.evaluate(X_test,y_test)\n",
        "print('Test Accuracy',test_acc)\n",
        "print('Test Loss',test_loss)"
      ],
      "metadata": {
        "colab": {
          "base_uri": "https://localhost:8080/"
        },
        "id": "rI8JwaE2fE7A",
        "outputId": "dd56f385-aa28-417f-c05d-c5895a7f3713"
      },
      "execution_count": 95,
      "outputs": [
        {
          "output_type": "stream",
          "name": "stdout",
          "text": [
            "313/313 [==============================] - 2s 6ms/step - loss: 0.0868 - accuracy: 0.9811\n",
            "Test Accuracy 0.9811000227928162\n",
            "Test Loss 0.08675733953714371\n"
          ]
        }
      ]
    },
    {
      "cell_type": "code",
      "source": [
        "# load the model\n",
        "import tensorflow as tf\n",
        "best_model=tf.keras.models.load_model('/content/alexnet_model.h5')\n",
        "test_loss,test_acc=best_model.evaluate(X_test,y_test)\n",
        "print('Test Accuracy',test_acc)\n",
        "print('Test Loss',test_loss)"
      ],
      "metadata": {
        "colab": {
          "base_uri": "https://localhost:8080/"
        },
        "id": "51nHE0prfmaq",
        "outputId": "d48f3e77-5e9a-4f8c-b697-32f58448a92e"
      },
      "execution_count": 98,
      "outputs": [
        {
          "output_type": "stream",
          "name": "stdout",
          "text": [
            "313/313 [==============================] - 2s 5ms/step - loss: 0.0643 - accuracy: 0.9849\n",
            "Test Accuracy 0.9848999977111816\n",
            "Test Loss 0.0642935112118721\n"
          ]
        }
      ]
    }
  ]
}