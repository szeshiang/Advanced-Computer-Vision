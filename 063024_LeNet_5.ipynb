{
  "nbformat": 4,
  "nbformat_minor": 0,
  "metadata": {
    "colab": {
      "provenance": [],
      "gpuType": "T4",
      "authorship_tag": "ABX9TyOJgWBxh/OSr1kFQnSPtsvO",
      "include_colab_link": true
    },
    "kernelspec": {
      "name": "python3",
      "display_name": "Python 3"
    },
    "language_info": {
      "name": "python"
    },
    "accelerator": "GPU"
  },
  "cells": [
    {
      "cell_type": "markdown",
      "metadata": {
        "id": "view-in-github",
        "colab_type": "text"
      },
      "source": [
        "<a href=\"https://colab.research.google.com/github/szeshiang/Advanced-Computer-Vision/blob/main/063024_LeNet_5.ipynb\" target=\"_parent\"><img src=\"https://colab.research.google.com/assets/colab-badge.svg\" alt=\"Open In Colab\"/></a>"
      ]
    },
    {
      "cell_type": "code",
      "execution_count": 2,
      "metadata": {
        "id": "xQgvKHPRJhoM"
      },
      "outputs": [],
      "source": [
        "import tensorflow as tf\n",
        "from tensorflow.keras import Sequential\n",
        "from tensorflow.keras.layers import Conv2D, AveragePooling2D, Flatten, Dense\n",
        "from tensorflow.keras.datasets import mnist\n",
        "from tensorflow.keras.utils import to_categorical"
      ]
    },
    {
      "cell_type": "code",
      "source": [
        "# Load and preprocess the MNIST dataset\n",
        "(x_train, y_train), (x_test, y_test) = mnist.load_data()\n",
        "x_train = x_train.reshape(-1, 28, 28, 1).astype('float32') / 255.0\n",
        "x_test = x_test.reshape(-1, 28, 28, 1).astype('float32') / 255.0\n",
        "y_train = to_categorical(y_train, 10)\n",
        "y_test = to_categorical(y_test, 10)"
      ],
      "metadata": {
        "colab": {
          "base_uri": "https://localhost:8080/"
        },
        "id": "GwNW72LSJ9UA",
        "outputId": "d43dd6b2-7c0d-4da3-e08c-9fda43955304"
      },
      "execution_count": 3,
      "outputs": [
        {
          "output_type": "stream",
          "name": "stdout",
          "text": [
            "Downloading data from https://storage.googleapis.com/tensorflow/tf-keras-datasets/mnist.npz\n",
            "11490434/11490434 [==============================] - 0s 0us/step\n"
          ]
        }
      ]
    },
    {
      "cell_type": "code",
      "source": [
        "x_train.shape"
      ],
      "metadata": {
        "colab": {
          "base_uri": "https://localhost:8080/"
        },
        "id": "TFk3FlrJKE-b",
        "outputId": "65d72cd4-14b9-4fc1-9f7e-df5c46953f3c"
      },
      "execution_count": 4,
      "outputs": [
        {
          "output_type": "execute_result",
          "data": {
            "text/plain": [
              "(60000, 28, 28, 1)"
            ]
          },
          "metadata": {},
          "execution_count": 4
        }
      ]
    },
    {
      "cell_type": "code",
      "source": [
        "from tensorflow.keras.models import Sequential\n",
        "from tensorflow.keras.layers import Conv2D, AveragePooling2D, Flatten, Dense"
      ],
      "metadata": {
        "id": "G-fdd2PmKHjI"
      },
      "execution_count": 5,
      "outputs": []
    },
    {
      "cell_type": "markdown",
      "source": [
        "Using LeNet-5 Architecture"
      ],
      "metadata": {
        "id": "_FBhfS3dKziM"
      }
    },
    {
      "cell_type": "code",
      "source": [
        "model = Sequential()\n",
        "\n",
        "model.add(Conv2D(filters = 6, kernel_size = 5, strides = 1, activation = 'tanh',\n",
        "                 input_shape = (28,28,1), padding = 'same'))\n",
        "model.add(AveragePooling2D(pool_size = 2, strides = 2, padding = 'valid'))\n",
        "model.add(Conv2D(filters = 16, kernel_size = 5, strides = 1,activation = 'tanh',\n",
        "                 padding = 'valid'))\n",
        "model.add(AveragePooling2D(pool_size = 2, strides = 2, padding = 'valid'))\n",
        "model.add(Conv2D(filters = 120, kernel_size = 5, strides = 1,activation = 'tanh',\n",
        "                 padding = 'valid'))\n",
        "\n",
        "model.add(Flatten())\n",
        "model.add(Dense(units = 84, activation = 'tanh'))\n",
        "model.add(Dense(units = 10, activation = 'softmax'))\n",
        "\n",
        "model.summary()\n"
      ],
      "metadata": {
        "colab": {
          "base_uri": "https://localhost:8080/"
        },
        "id": "Kz2sJJW5KLzL",
        "outputId": "4b7506e1-db0b-40ff-f701-9b502e4c67b0"
      },
      "execution_count": 6,
      "outputs": [
        {
          "output_type": "stream",
          "name": "stdout",
          "text": [
            "Model: \"sequential\"\n",
            "_________________________________________________________________\n",
            " Layer (type)                Output Shape              Param #   \n",
            "=================================================================\n",
            " conv2d (Conv2D)             (None, 28, 28, 6)         156       \n",
            "                                                                 \n",
            " average_pooling2d (Average  (None, 14, 14, 6)         0         \n",
            " Pooling2D)                                                      \n",
            "                                                                 \n",
            " conv2d_1 (Conv2D)           (None, 10, 10, 16)        2416      \n",
            "                                                                 \n",
            " average_pooling2d_1 (Avera  (None, 5, 5, 16)          0         \n",
            " gePooling2D)                                                    \n",
            "                                                                 \n",
            " conv2d_2 (Conv2D)           (None, 1, 1, 120)         48120     \n",
            "                                                                 \n",
            " flatten (Flatten)           (None, 120)               0         \n",
            "                                                                 \n",
            " dense (Dense)               (None, 84)                10164     \n",
            "                                                                 \n",
            " dense_1 (Dense)             (None, 10)                850       \n",
            "                                                                 \n",
            "=================================================================\n",
            "Total params: 61706 (241.04 KB)\n",
            "Trainable params: 61706 (241.04 KB)\n",
            "Non-trainable params: 0 (0.00 Byte)\n",
            "_________________________________________________________________\n"
          ]
        }
      ]
    },
    {
      "cell_type": "code",
      "source": [
        "# Compile the model\n",
        "model.compile(optimizer='adam', loss='categorical_crossentropy', metrics=['accuracy'])"
      ],
      "metadata": {
        "id": "OIuDRTAeLG-w"
      },
      "execution_count": 7,
      "outputs": []
    },
    {
      "cell_type": "code",
      "source": [
        "# Train the model\n",
        "model.fit(x_train, y_train, batch_size=64, epochs=5, validation_data=(x_test, y_test))\n"
      ],
      "metadata": {
        "colab": {
          "base_uri": "https://localhost:8080/"
        },
        "id": "qqNy99mJLIyP",
        "outputId": "b6acb304-42a4-40b0-c980-0f91d3f6df82"
      },
      "execution_count": 8,
      "outputs": [
        {
          "output_type": "stream",
          "name": "stdout",
          "text": [
            "Epoch 1/5\n",
            "938/938 [==============================] - 39s 40ms/step - loss: 0.2718 - accuracy: 0.9189 - val_loss: 0.1231 - val_accuracy: 0.9657\n",
            "Epoch 2/5\n",
            "938/938 [==============================] - 33s 35ms/step - loss: 0.0972 - accuracy: 0.9699 - val_loss: 0.0772 - val_accuracy: 0.9747\n",
            "Epoch 3/5\n",
            "938/938 [==============================] - 34s 36ms/step - loss: 0.0659 - accuracy: 0.9796 - val_loss: 0.0669 - val_accuracy: 0.9770\n",
            "Epoch 4/5\n",
            "938/938 [==============================] - 33s 35ms/step - loss: 0.0508 - accuracy: 0.9841 - val_loss: 0.0587 - val_accuracy: 0.9820\n",
            "Epoch 5/5\n",
            "938/938 [==============================] - 36s 39ms/step - loss: 0.0405 - accuracy: 0.9876 - val_loss: 0.0520 - val_accuracy: 0.9825\n"
          ]
        },
        {
          "output_type": "execute_result",
          "data": {
            "text/plain": [
              "<keras.src.callbacks.History at 0x7cd30c6cbe20>"
            ]
          },
          "metadata": {},
          "execution_count": 8
        }
      ]
    },
    {
      "cell_type": "code",
      "source": [
        "# Evaluate the model\n",
        "test_loss, test_acc = model.evaluate(x_test, y_test, verbose=2)\n",
        "print(f'Test accuracy: {test_acc * 100:.2f}%')"
      ],
      "metadata": {
        "colab": {
          "base_uri": "https://localhost:8080/"
        },
        "id": "8RFAGgmeLPEF",
        "outputId": "51975930-ed12-44ae-c552-8469d93aac1c"
      },
      "execution_count": 10,
      "outputs": [
        {
          "output_type": "stream",
          "name": "stdout",
          "text": [
            "313/313 - 2s - loss: 0.0520 - accuracy: 0.9825 - 2s/epoch - 7ms/step\n",
            "Test accuracy: 98.25%\n"
          ]
        }
      ]
    },
    {
      "cell_type": "markdown",
      "source": [
        "** filters can increase as layers built up or decrease. It usually depends on whether the lower features extraction is emphasised or the higher level features. Give a higher filter number to layer where you want to emphasise the features extraction"
      ],
      "metadata": {
        "id": "2c4wbjqfNDmC"
      }
    },
    {
      "cell_type": "code",
      "source": [],
      "metadata": {
        "id": "c1v2laAoNhHI"
      },
      "execution_count": null,
      "outputs": []
    }
  ]
}