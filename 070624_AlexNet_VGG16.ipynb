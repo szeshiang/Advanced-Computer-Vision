{
  "cells": [
    {
      "cell_type": "markdown",
      "metadata": {
        "id": "view-in-github",
        "colab_type": "text"
      },
      "source": [
        "<a href=\"https://colab.research.google.com/github/szeshiang/Advanced-Computer-Vision/blob/main/070624_AlexNet_VGG16.ipynb\" target=\"_parent\"><img src=\"https://colab.research.google.com/assets/colab-badge.svg\" alt=\"Open In Colab\"/></a>"
      ]
    },
    {
      "cell_type": "markdown",
      "metadata": {
        "id": "APpZ21C0oSyp"
      },
      "source": [
        "**AlexNet Architecture**"
      ]
    },
    {
      "cell_type": "code",
      "execution_count": 1,
      "metadata": {
        "colab": {
          "base_uri": "https://localhost:8080/"
        },
        "id": "u1sJoSAqUz0Z",
        "outputId": "5dbb8c9b-6cbb-4aff-ce84-c3dcd8b7e826"
      },
      "outputs": [
        {
          "output_type": "stream",
          "name": "stdout",
          "text": [
            "library imported\n"
          ]
        }
      ],
      "source": [
        "# import the library\n",
        "from tensorflow.keras.models import Sequential\n",
        "from tensorflow.keras.layers import Conv2D,AveragePooling2D,Flatten,Dense,MaxPool2D, BatchNormalization,Dropout\n",
        "from tensorflow.keras.datasets import mnist\n",
        "print('library imported')"
      ]
    },
    {
      "cell_type": "code",
      "execution_count": 2,
      "metadata": {
        "id": "Rnyh65GSV4fX"
      },
      "outputs": [],
      "source": [
        "# load and preprocess the mnist dataset\n",
        "(X_train,y_train),(X_test,y_test)=mnist.load_data()"
      ]
    },
    {
      "cell_type": "code",
      "execution_count": 3,
      "metadata": {
        "colab": {
          "base_uri": "https://localhost:8080/"
        },
        "id": "3vm3ptKsWAKf",
        "outputId": "e405cee2-7b86-4afa-805d-d86608077e9f"
      },
      "outputs": [
        {
          "output_type": "execute_result",
          "data": {
            "text/plain": [
              "(60000, 28, 28)"
            ]
          },
          "metadata": {},
          "execution_count": 3
        }
      ],
      "source": [
        "X_train.shape"
      ]
    },
    {
      "cell_type": "code",
      "execution_count": 4,
      "metadata": {
        "id": "Y5c2Yk0zWP9s"
      },
      "outputs": [],
      "source": [
        "X_train=X_train.reshape(-1,28,28,1).astype('float32')/255.0\n",
        "X_test=X_test.reshape(-1,28,28,1).astype('float32')/255.0"
      ]
    },
    {
      "cell_type": "code",
      "execution_count": 5,
      "metadata": {
        "colab": {
          "base_uri": "https://localhost:8080/"
        },
        "id": "21MNgNhoWc3e",
        "outputId": "41c68038-2d52-4d60-9352-f5e5e5f93096"
      },
      "outputs": [
        {
          "output_type": "execute_result",
          "data": {
            "text/plain": [
              "(60000, 28, 28, 1)"
            ]
          },
          "metadata": {},
          "execution_count": 5
        }
      ],
      "source": [
        "X_train.shape"
      ]
    },
    {
      "cell_type": "code",
      "execution_count": 6,
      "metadata": {
        "colab": {
          "base_uri": "https://localhost:8080/"
        },
        "id": "3Diqh9raWe3A",
        "outputId": "faf3fce7-3f16-4888-f383-2bcd1f80bb75"
      },
      "outputs": [
        {
          "output_type": "execute_result",
          "data": {
            "text/plain": [
              "array([5, 0, 4, 1, 9], dtype=uint8)"
            ]
          },
          "metadata": {},
          "execution_count": 6
        }
      ],
      "source": [
        "y_train[0:5]"
      ]
    },
    {
      "cell_type": "code",
      "execution_count": 7,
      "metadata": {
        "id": "aY1gDILPWxUf"
      },
      "outputs": [],
      "source": [
        "from tensorflow.keras.utils import to_categorical\n",
        "y_train=to_categorical(y_train,10)\n",
        "y_test=to_categorical(y_test,10)"
      ]
    },
    {
      "cell_type": "code",
      "execution_count": 8,
      "metadata": {
        "colab": {
          "base_uri": "https://localhost:8080/"
        },
        "id": "R4I7_NFDW7ss",
        "outputId": "f711de0e-19fe-4e6b-b79b-87ee31de3b44"
      },
      "outputs": [
        {
          "output_type": "execute_result",
          "data": {
            "text/plain": [
              "array([[0., 0., 0., 0., 0., 1., 0., 0., 0., 0.],\n",
              "       [1., 0., 0., 0., 0., 0., 0., 0., 0., 0.],\n",
              "       [0., 0., 0., 0., 1., 0., 0., 0., 0., 0.],\n",
              "       [0., 1., 0., 0., 0., 0., 0., 0., 0., 0.],\n",
              "       [0., 0., 0., 0., 0., 0., 0., 0., 0., 1.]], dtype=float32)"
            ]
          },
          "metadata": {},
          "execution_count": 8
        }
      ],
      "source": [
        "y_train[0:5]"
      ]
    },
    {
      "cell_type": "code",
      "execution_count": 9,
      "metadata": {
        "id": "sr0vupMCW_fy"
      },
      "outputs": [],
      "source": [
        "# Define the AlexNet-like model for MNIST\n",
        "def alexnet_mnist():\n",
        "    model=Sequential()\n",
        "\n",
        "\n",
        "    # Conv1\n",
        "    model.add(Conv2D(96, kernel_size=(3, 3), strides=(1, 1), activation='relu', input_shape=(28, 28, 1), padding='same'))\n",
        "    model.add(BatchNormalization())\n",
        "    model.add(MaxPool2D(pool_size=(2, 2), strides=(2, 2)))\n",
        "\n",
        "\n",
        "    # Conv2\n",
        "    model.add(Conv2D(256, kernel_size=(3, 3), strides=(1, 1), activation='relu', padding='same'))\n",
        "    model.add(BatchNormalization())\n",
        "    model.add(MaxPool2D(pool_size=(2, 2), strides=(2, 2)))\n",
        "\n",
        "\n",
        "    # Conv3\n",
        "    model.add(Conv2D(384, kernel_size=(3, 3), strides=(1, 1), activation='relu', padding='same'))\n",
        "\n",
        "\n",
        "    # Conv4\n",
        "    model.add(Conv2D(384, kernel_size=(3, 3), strides=(1, 1), activation='relu', padding='same'))\n",
        "\n",
        "\n",
        "    # Conv5\n",
        "    model.add(Conv2D(256, kernel_size=(3, 3), strides=(1, 1), activation='relu', padding='same'))\n",
        "    model.add(MaxPool2D(pool_size=(2, 2), strides=(2, 2)))\n",
        "\n",
        "\n",
        "    # Flatten and Fully Connected Layers\n",
        "    model.add(Flatten())\n",
        "    model.add(Dense(4096, activation='relu'))\n",
        "    model.add(Dropout(0.5))\n",
        "    model.add(Dense(4096, activation='relu'))\n",
        "    model.add(Dropout(0.5))\n",
        "\n",
        "\n",
        "    # Output Layer\n",
        "    model.add(Dense(10, activation='softmax'))\n",
        "\n",
        "    return model"
      ]
    },
    {
      "cell_type": "code",
      "execution_count": 10,
      "metadata": {
        "colab": {
          "base_uri": "https://localhost:8080/"
        },
        "id": "7H_uEBx7eYJQ",
        "outputId": "f1a9da35-617f-45d5-d9ae-786cfee4a844"
      },
      "outputs": [
        {
          "output_type": "stream",
          "name": "stdout",
          "text": [
            "Model: \"sequential\"\n",
            "_________________________________________________________________\n",
            " Layer (type)                Output Shape              Param #   \n",
            "=================================================================\n",
            " conv2d (Conv2D)             (None, 28, 28, 96)        960       \n",
            "                                                                 \n",
            " batch_normalization (Batch  (None, 28, 28, 96)        384       \n",
            " Normalization)                                                  \n",
            "                                                                 \n",
            " max_pooling2d (MaxPooling2  (None, 14, 14, 96)        0         \n",
            " D)                                                              \n",
            "                                                                 \n",
            " conv2d_1 (Conv2D)           (None, 14, 14, 256)       221440    \n",
            "                                                                 \n",
            " batch_normalization_1 (Bat  (None, 14, 14, 256)       1024      \n",
            " chNormalization)                                                \n",
            "                                                                 \n",
            " max_pooling2d_1 (MaxPoolin  (None, 7, 7, 256)         0         \n",
            " g2D)                                                            \n",
            "                                                                 \n",
            " conv2d_2 (Conv2D)           (None, 7, 7, 384)         885120    \n",
            "                                                                 \n",
            " conv2d_3 (Conv2D)           (None, 7, 7, 384)         1327488   \n",
            "                                                                 \n",
            " conv2d_4 (Conv2D)           (None, 7, 7, 256)         884992    \n",
            "                                                                 \n",
            " max_pooling2d_2 (MaxPoolin  (None, 3, 3, 256)         0         \n",
            " g2D)                                                            \n",
            "                                                                 \n",
            " flatten (Flatten)           (None, 2304)              0         \n",
            "                                                                 \n",
            " dense (Dense)               (None, 4096)              9441280   \n",
            "                                                                 \n",
            " dropout (Dropout)           (None, 4096)              0         \n",
            "                                                                 \n",
            " dense_1 (Dense)             (None, 4096)              16781312  \n",
            "                                                                 \n",
            " dropout_1 (Dropout)         (None, 4096)              0         \n",
            "                                                                 \n",
            " dense_2 (Dense)             (None, 10)                40970     \n",
            "                                                                 \n",
            "=================================================================\n",
            "Total params: 29584970 (112.86 MB)\n",
            "Trainable params: 29584266 (112.86 MB)\n",
            "Non-trainable params: 704 (2.75 KB)\n",
            "_________________________________________________________________\n"
          ]
        }
      ],
      "source": [
        "# Call the function to create the model\n",
        "model = alexnet_mnist()\n",
        "model.summary() # Moved outside the function"
      ]
    },
    {
      "cell_type": "code",
      "execution_count": 11,
      "metadata": {
        "colab": {
          "base_uri": "https://localhost:8080/"
        },
        "id": "RnLm7jQRYdzg",
        "outputId": "ba5bc1a1-4c6a-47ba-e71d-4d49e09f2fd0"
      },
      "outputs": [
        {
          "output_type": "stream",
          "name": "stdout",
          "text": [
            "model is compiled\n"
          ]
        }
      ],
      "source": [
        "model.compile(optimizer='adam',loss='categorical_crossentropy',metrics=['accuracy'])\n",
        "print('model is compiled')"
      ]
    },
    {
      "cell_type": "code",
      "execution_count": 12,
      "metadata": {
        "id": "svFoKHO3Yse3"
      },
      "outputs": [],
      "source": [
        "def lr_schedule(epoch,lr):\n",
        "  if epoch<5:\n",
        "    return lr\n",
        "  else:\n",
        "    return lr*tf.math.exp(-0.1)\n",
        "\n",
        "from tensorflow.keras.callbacks import LearningRateScheduler, ModelCheckpoint\n",
        "lr_scheduler=LearningRateScheduler(lr_schedule)\n"
      ]
    },
    {
      "cell_type": "code",
      "execution_count": 13,
      "metadata": {
        "id": "iOJDj34nemKM"
      },
      "outputs": [],
      "source": [
        "# Data Augmentation\n",
        "from tensorflow.keras.preprocessing.image import ImageDataGenerator\n",
        "datagen=ImageDataGenerator(rotation_range=10,zoom_range=0.1,width_shift_range=0.1,height_shift_range=0.1)"
      ]
    },
    {
      "cell_type": "code",
      "execution_count": 14,
      "metadata": {
        "id": "msDkZgSCenuM"
      },
      "outputs": [],
      "source": [
        "# use modelcheckpoint\n",
        "checkpoint_callback=ModelCheckpoint(filepath='alexnet_model.h5',\n",
        "                                    monitor='val_accuracy',\n",
        "                                    save_best_only=True,\n",
        "                                    mode='max',\n",
        "                                    save_freq='epoch')"
      ]
    },
    {
      "cell_type": "code",
      "execution_count": 15,
      "metadata": {
        "colab": {
          "base_uri": "https://localhost:8080/"
        },
        "id": "avwqb2kbesx0",
        "outputId": "e1a2fc35-703b-4589-df46-bec5e784b91f"
      },
      "outputs": [
        {
          "output_type": "stream",
          "name": "stdout",
          "text": [
            "Epoch 1/5\n",
            "938/938 [==============================] - ETA: 0s - loss: 0.2973 - accuracy: 0.9096"
          ]
        },
        {
          "output_type": "stream",
          "name": "stderr",
          "text": [
            "/usr/local/lib/python3.10/dist-packages/keras/src/engine/training.py:3103: UserWarning: You are saving your model as an HDF5 file via `model.save()`. This file format is considered legacy. We recommend using instead the native Keras format, e.g. `model.save('my_model.keras')`.\n",
            "  saving_api.save_model(\n"
          ]
        },
        {
          "output_type": "stream",
          "name": "stdout",
          "text": [
            "\b\b\b\b\b\b\b\b\b\b\b\b\b\b\b\b\b\b\b\b\b\b\b\b\b\b\b\b\b\b\b\b\b\b\b\b\b\b\b\b\b\b\b\b\b\b\b\b\b\b\b\b\b\b\b\b\b\b\b\b\b\b\b\b\b\b\b\b\b\b\b\b\b\b\b\b\b\b\b\b\b\b\b\b\r938/938 [==============================] - 48s 42ms/step - loss: 0.2973 - accuracy: 0.9096 - val_loss: 0.0645 - val_accuracy: 0.9820 - lr: 0.0010\n",
            "Epoch 2/5\n",
            "938/938 [==============================] - 30s 32ms/step - loss: 0.1183 - accuracy: 0.9690 - val_loss: 0.0903 - val_accuracy: 0.9767 - lr: 0.0010\n",
            "Epoch 3/5\n",
            "938/938 [==============================] - 30s 32ms/step - loss: 0.0996 - accuracy: 0.9746 - val_loss: 0.0858 - val_accuracy: 0.9800 - lr: 0.0010\n",
            "Epoch 4/5\n",
            "938/938 [==============================] - 31s 33ms/step - loss: 0.0993 - accuracy: 0.9759 - val_loss: 0.1062 - val_accuracy: 0.9737 - lr: 0.0010\n",
            "Epoch 5/5\n",
            "938/938 [==============================] - 32s 34ms/step - loss: 0.0906 - accuracy: 0.9779 - val_loss: 0.0680 - val_accuracy: 0.9843 - lr: 0.0010\n"
          ]
        }
      ],
      "source": [
        "# Train the model\n",
        "\n",
        "history=model.fit(datagen.flow(X_train,y_train,batch_size=64),epochs=5,\n",
        "                  validation_data=(X_test,y_test),\n",
        "                  callbacks=[lr_scheduler,checkpoint_callback])"
      ]
    },
    {
      "cell_type": "code",
      "execution_count": 16,
      "metadata": {
        "id": "rI8JwaE2fE7A",
        "colab": {
          "base_uri": "https://localhost:8080/"
        },
        "outputId": "499f8daf-4be9-44c3-b89b-1c245ec832fc"
      },
      "outputs": [
        {
          "output_type": "stream",
          "name": "stdout",
          "text": [
            "313/313 [==============================] - 2s 5ms/step - loss: 0.0680 - accuracy: 0.9843\n",
            "Test Accuracy 0.9843000173568726\n",
            "Test Loss 0.06796978414058685\n"
          ]
        }
      ],
      "source": [
        "# evaluate the model\n",
        "test_loss,test_acc=model.evaluate(X_test,y_test)\n",
        "print('Test Accuracy',test_acc)\n",
        "print('Test Loss',test_loss)"
      ]
    },
    {
      "cell_type": "code",
      "execution_count": 17,
      "metadata": {
        "id": "51nHE0prfmaq",
        "colab": {
          "base_uri": "https://localhost:8080/"
        },
        "outputId": "28e9b65d-4951-4ad9-f2d6-fb7ad4b8e60b"
      },
      "outputs": [
        {
          "output_type": "stream",
          "name": "stdout",
          "text": [
            "313/313 [==============================] - 2s 5ms/step - loss: 0.0680 - accuracy: 0.9843\n",
            "Test Accuracy 0.9843000173568726\n",
            "Test Loss 0.06796978414058685\n"
          ]
        }
      ],
      "source": [
        "# load the model\n",
        "import tensorflow as tf\n",
        "best_model=tf.keras.models.load_model('/content/alexnet_model.h5')\n",
        "test_loss,test_acc=best_model.evaluate(X_test,y_test)\n",
        "print('Test Accuracy',test_acc)\n",
        "print('Test Loss',test_loss)"
      ]
    },
    {
      "cell_type": "markdown",
      "metadata": {
        "id": "MDfs9zA-qMM8"
      },
      "source": [
        "**VGG16 Architecture**"
      ]
    },
    {
      "cell_type": "code",
      "execution_count": 18,
      "metadata": {
        "id": "kOXoP7LRmQmZ"
      },
      "outputs": [],
      "source": [
        "# load dataset\n",
        "from tensorflow.keras.datasets import cifar10\n",
        "(X_train,y_train),(X_test,y_test)=cifar10.load_data()"
      ]
    },
    {
      "cell_type": "code",
      "execution_count": 19,
      "metadata": {
        "id": "r-3R2f8lmU51"
      },
      "outputs": [],
      "source": [
        "X_train=X_train.astype('float32')/255.0\n",
        "X_test=X_test.astype('float32')/255.0"
      ]
    },
    {
      "cell_type": "code",
      "execution_count": 20,
      "metadata": {
        "id": "kI-gq8NmmXnO"
      },
      "outputs": [],
      "source": [
        "y_train=to_categorical(y_train,10)\n",
        "y_test=to_categorical(y_test,10)"
      ]
    },
    {
      "cell_type": "code",
      "execution_count": 21,
      "metadata": {
        "id": "ex7jToD6mbqU"
      },
      "outputs": [],
      "source": [
        "from tensorflow.keras.layers import MaxPooling2D\n",
        "# Define the VGG-16 model\n",
        "def vgg16():\n",
        "    model = Sequential()\n",
        "\n",
        "\n",
        "    # Block 1\n",
        "    model.add(Conv2D(64, (3, 3), activation='relu', padding='same', input_shape=(32, 32, 3)))\n",
        "    model.add(Conv2D(64, (3, 3), activation='relu', padding='same'))\n",
        "    model.add(MaxPooling2D((2, 2), strides=(2, 2)))\n",
        "\n",
        "\n",
        "    # Block 2\n",
        "    model.add(Conv2D(128, (3, 3), activation='relu', padding='same'))\n",
        "    model.add(Conv2D(128, (3, 3), activation='relu', padding='same'))\n",
        "    model.add(MaxPooling2D((2, 2), strides=(2, 2)))\n",
        "\n",
        "\n",
        "    # Block 3\n",
        "    model.add(Conv2D(256, (3, 3), activation='relu', padding='same'))\n",
        "    model.add(Conv2D(256, (3, 3), activation='relu', padding='same'))\n",
        "    model.add(Conv2D(256, (3, 3), activation='relu', padding='same'))\n",
        "    model.add(MaxPooling2D((2, 2), strides=(2, 2)))\n",
        "\n",
        "\n",
        "    # Block 4\n",
        "    model.add(Conv2D(512, (3, 3), activation='relu', padding='same'))\n",
        "    model.add(Conv2D(512, (3, 3), activation='relu', padding='same'))\n",
        "    model.add(Conv2D(512, (3, 3), activation='relu', padding='same'))\n",
        "    model.add(MaxPooling2D((2, 2), strides=(2, 2)))\n",
        "\n",
        "\n",
        "    # Block 5\n",
        "    model.add(Conv2D(512, (3, 3), activation='relu', padding='same'))\n",
        "    model.add(Conv2D(512, (3, 3), activation='relu', padding='same'))\n",
        "    model.add(Conv2D(512, (3, 3), activation='relu', padding='same'))\n",
        "    model.add(MaxPooling2D((2, 2), strides=(2, 2)))\n",
        "\n",
        "\n",
        "    # Fully Connected Layers\n",
        "    model.add(Flatten())\n",
        "    model.add(Dense(4096, activation='relu'))\n",
        "    model.add(Dropout(0.5))\n",
        "    model.add(Dense(4096, activation='relu'))\n",
        "    model.add(Dropout(0.5))\n",
        "\n",
        "\n",
        "    # Output Layer\n",
        "    model.add(Dense(10, activation='softmax'))\n",
        "\n",
        "\n",
        "    return model\n"
      ]
    },
    {
      "cell_type": "code",
      "execution_count": 22,
      "metadata": {
        "id": "KZLw-Zz6mefO",
        "colab": {
          "base_uri": "https://localhost:8080/"
        },
        "outputId": "89847f75-07cb-4120-879d-0fb591d1f5bb"
      },
      "outputs": [
        {
          "output_type": "stream",
          "name": "stdout",
          "text": [
            "Model: \"sequential_1\"\n",
            "_________________________________________________________________\n",
            " Layer (type)                Output Shape              Param #   \n",
            "=================================================================\n",
            " conv2d_5 (Conv2D)           (None, 32, 32, 64)        1792      \n",
            "                                                                 \n",
            " conv2d_6 (Conv2D)           (None, 32, 32, 64)        36928     \n",
            "                                                                 \n",
            " max_pooling2d_3 (MaxPoolin  (None, 16, 16, 64)        0         \n",
            " g2D)                                                            \n",
            "                                                                 \n",
            " conv2d_7 (Conv2D)           (None, 16, 16, 128)       73856     \n",
            "                                                                 \n",
            " conv2d_8 (Conv2D)           (None, 16, 16, 128)       147584    \n",
            "                                                                 \n",
            " max_pooling2d_4 (MaxPoolin  (None, 8, 8, 128)         0         \n",
            " g2D)                                                            \n",
            "                                                                 \n",
            " conv2d_9 (Conv2D)           (None, 8, 8, 256)         295168    \n",
            "                                                                 \n",
            " conv2d_10 (Conv2D)          (None, 8, 8, 256)         590080    \n",
            "                                                                 \n",
            " conv2d_11 (Conv2D)          (None, 8, 8, 256)         590080    \n",
            "                                                                 \n",
            " max_pooling2d_5 (MaxPoolin  (None, 4, 4, 256)         0         \n",
            " g2D)                                                            \n",
            "                                                                 \n",
            " conv2d_12 (Conv2D)          (None, 4, 4, 512)         1180160   \n",
            "                                                                 \n",
            " conv2d_13 (Conv2D)          (None, 4, 4, 512)         2359808   \n",
            "                                                                 \n",
            " conv2d_14 (Conv2D)          (None, 4, 4, 512)         2359808   \n",
            "                                                                 \n",
            " max_pooling2d_6 (MaxPoolin  (None, 2, 2, 512)         0         \n",
            " g2D)                                                            \n",
            "                                                                 \n",
            " conv2d_15 (Conv2D)          (None, 2, 2, 512)         2359808   \n",
            "                                                                 \n",
            " conv2d_16 (Conv2D)          (None, 2, 2, 512)         2359808   \n",
            "                                                                 \n",
            " conv2d_17 (Conv2D)          (None, 2, 2, 512)         2359808   \n",
            "                                                                 \n",
            " max_pooling2d_7 (MaxPoolin  (None, 1, 1, 512)         0         \n",
            " g2D)                                                            \n",
            "                                                                 \n",
            " flatten_1 (Flatten)         (None, 512)               0         \n",
            "                                                                 \n",
            " dense_3 (Dense)             (None, 4096)              2101248   \n",
            "                                                                 \n",
            " dropout_2 (Dropout)         (None, 4096)              0         \n",
            "                                                                 \n",
            " dense_4 (Dense)             (None, 4096)              16781312  \n",
            "                                                                 \n",
            " dropout_3 (Dropout)         (None, 4096)              0         \n",
            "                                                                 \n",
            " dense_5 (Dense)             (None, 10)                40970     \n",
            "                                                                 \n",
            "=================================================================\n",
            "Total params: 33638218 (128.32 MB)\n",
            "Trainable params: 33638218 (128.32 MB)\n",
            "Non-trainable params: 0 (0.00 Byte)\n",
            "_________________________________________________________________\n"
          ]
        }
      ],
      "source": [
        "model_vgg=vgg16()\n",
        "model_vgg.summary()"
      ]
    },
    {
      "cell_type": "code",
      "execution_count": 23,
      "metadata": {
        "id": "i9LwJ8aNmh-y",
        "colab": {
          "base_uri": "https://localhost:8080/"
        },
        "outputId": "c06b5dff-3316-4f92-a14a-d4411288da31"
      },
      "outputs": [
        {
          "output_type": "stream",
          "name": "stdout",
          "text": [
            "model is compiled\n",
            "Epoch 1/5\n",
            "782/782 [==============================] - 56s 61ms/step - loss: 2.3034 - accuracy: 0.0984 - val_loss: 2.3028 - val_accuracy: 0.1000 - lr: 0.0010\n",
            "Epoch 2/5\n",
            "782/782 [==============================] - 42s 54ms/step - loss: 2.3029 - accuracy: 0.0977 - val_loss: 2.3026 - val_accuracy: 0.1000 - lr: 0.0010\n",
            "Epoch 3/5\n",
            "782/782 [==============================] - 42s 54ms/step - loss: 2.3028 - accuracy: 0.0987 - val_loss: 2.3026 - val_accuracy: 0.1000 - lr: 0.0010\n",
            "Epoch 4/5\n",
            "782/782 [==============================] - 43s 55ms/step - loss: 2.3028 - accuracy: 0.0994 - val_loss: 2.3026 - val_accuracy: 0.1000 - lr: 0.0010\n",
            "Epoch 5/5\n",
            "782/782 [==============================] - 43s 54ms/step - loss: 2.3028 - accuracy: 0.0976 - val_loss: 2.3026 - val_accuracy: 0.1000 - lr: 0.0010\n"
          ]
        }
      ],
      "source": [
        "model_vgg.compile(optimizer='adam',loss='categorical_crossentropy',metrics=['accuracy'])\n",
        "print('model is compiled')\n",
        "\n",
        "\n",
        "history=model_vgg.fit(datagen.flow(X_train,y_train,batch_size=64),epochs=5,\n",
        "                  validation_data=(X_test,y_test),\n",
        "                  callbacks=[lr_scheduler,checkpoint_callback])"
      ]
    },
    {
      "cell_type": "markdown",
      "metadata": {
        "id": "68G5NVHpmoXw"
      },
      "source": [
        "**Transfer Learning**"
      ]
    },
    {
      "cell_type": "markdown",
      "metadata": {
        "id": "sYdaeINgmtXT"
      },
      "source": [
        "1. Load base model VGG16 for feature extraction (from \"imagenet\")\n",
        "2. Classification layer will be my own layer"
      ]
    },
    {
      "cell_type": "code",
      "execution_count": 24,
      "metadata": {
        "id": "poiNA-NXmrE1"
      },
      "outputs": [],
      "source": [
        "# base model (no training, just load)\n",
        "base_model=tf.keras.applications.VGG16(include_top=False,weights=\"imagenet\",input_tensor=None, input_shape=(32,32,3),pooling=None,classes=1000,classifier_activation=\"softmax\",)"
      ]
    },
    {
      "cell_type": "code",
      "execution_count": 25,
      "metadata": {
        "id": "17gwWzg_nj6D"
      },
      "outputs": [],
      "source": [
        "# freeze the base model\n",
        "base_model.trainable=False"
      ]
    },
    {
      "cell_type": "code",
      "execution_count": 26,
      "metadata": {
        "id": "e5tmpf8GonFy"
      },
      "outputs": [],
      "source": [
        "from tensorflow.keras.layers import GlobalAveragePooling2D, Dropout"
      ]
    },
    {
      "cell_type": "code",
      "execution_count": 27,
      "metadata": {
        "id": "u4xSf04spLh5",
        "colab": {
          "base_uri": "https://localhost:8080/"
        },
        "outputId": "72a07ae7-3223-47c2-b5f3-e5dfb88719ea"
      },
      "outputs": [
        {
          "output_type": "stream",
          "name": "stdout",
          "text": [
            "Model: \"sequential_2\"\n",
            "_________________________________________________________________\n",
            " Layer (type)                Output Shape              Param #   \n",
            "=================================================================\n",
            " vgg16 (Functional)          (None, 1, 1, 512)         14714688  \n",
            "                                                                 \n",
            " global_average_pooling2d (  (None, 512)               0         \n",
            " GlobalAveragePooling2D)                                         \n",
            "                                                                 \n",
            " dense_6 (Dense)             (None, 512)               262656    \n",
            "                                                                 \n",
            " dropout_4 (Dropout)         (None, 512)               0         \n",
            "                                                                 \n",
            " dense_7 (Dense)             (None, 10)                5130      \n",
            "                                                                 \n",
            "=================================================================\n",
            "Total params: 14982474 (57.15 MB)\n",
            "Trainable params: 267786 (1.02 MB)\n",
            "Non-trainable params: 14714688 (56.13 MB)\n",
            "_________________________________________________________________\n"
          ]
        }
      ],
      "source": [
        "# create Architecture\n",
        "model_transfer_vgg=Sequential([\n",
        "    base_model,\n",
        "    GlobalAveragePooling2D(),\n",
        "    Dense(512,activation='relu'),\n",
        "    Dropout(0.5),\n",
        "    Dense(10,activation='softmax')\n",
        "\n",
        "])\n",
        "\n",
        "model_transfer_vgg.summary()\n"
      ]
    },
    {
      "cell_type": "code",
      "execution_count": 28,
      "metadata": {
        "id": "wJJVbpTPqa2S",
        "colab": {
          "base_uri": "https://localhost:8080/"
        },
        "outputId": "0a5b1c16-cfd4-4e26-e697-a39434abbda2"
      },
      "outputs": [
        {
          "output_type": "stream",
          "name": "stdout",
          "text": [
            "model is compiled\n"
          ]
        }
      ],
      "source": [
        "model_transfer_vgg.compile(optimizer='adam',loss='categorical_crossentropy',metrics=['accuracy'])\n",
        "print('model is compiled')"
      ]
    },
    {
      "cell_type": "code",
      "execution_count": 29,
      "metadata": {
        "id": "Pbdbz0AZqbqJ",
        "colab": {
          "base_uri": "https://localhost:8080/"
        },
        "outputId": "fc6c45d1-a749-439b-c0fc-66c1630b1dad"
      },
      "outputs": [
        {
          "output_type": "stream",
          "name": "stdout",
          "text": [
            "Epoch 1/5\n",
            "782/782 [==============================] - 36s 45ms/step - loss: 1.5458 - accuracy: 0.4529 - val_loss: 1.3049 - val_accuracy: 0.5417 - lr: 0.0010\n",
            "Epoch 2/5\n",
            "782/782 [==============================] - 34s 44ms/step - loss: 1.3769 - accuracy: 0.5144 - val_loss: 1.2340 - val_accuracy: 0.5622 - lr: 0.0010\n",
            "Epoch 3/5\n",
            "782/782 [==============================] - 37s 47ms/step - loss: 1.3269 - accuracy: 0.5318 - val_loss: 1.2159 - val_accuracy: 0.5714 - lr: 0.0010\n",
            "Epoch 4/5\n",
            "782/782 [==============================] - 34s 43ms/step - loss: 1.2960 - accuracy: 0.5440 - val_loss: 1.1836 - val_accuracy: 0.5805 - lr: 0.0010\n",
            "Epoch 5/5\n",
            "782/782 [==============================] - 35s 44ms/step - loss: 1.2737 - accuracy: 0.5508 - val_loss: 1.1667 - val_accuracy: 0.5882 - lr: 0.0010\n"
          ]
        }
      ],
      "source": [
        "history=model_transfer_vgg.fit(datagen.flow(X_train,y_train,batch_size=64),epochs=5,\n",
        "                  validation_data=(X_test,y_test),\n",
        "                  callbacks=[lr_scheduler,checkpoint_callback])"
      ]
    },
    {
      "cell_type": "markdown",
      "metadata": {
        "id": "qlimws4535AP"
      },
      "source": [
        "**GoogleNet/Inception V3**"
      ]
    },
    {
      "cell_type": "code",
      "execution_count": 30,
      "metadata": {
        "id": "Psns0PvKqed0"
      },
      "outputs": [],
      "source": [
        "import tensorflow as tf\n",
        "from tensorflow.keras import layers, models, datasets,callbacks, preprocessing\n",
        "from tensorflow.keras.callbacks import ModelCheckpoint, LearningRateScheduler\n",
        "from tensorflow.keras.preprocessing.image import ImageDataGenerator\n",
        "from tensorflow.keras.utils import to_categorical\n",
        "# Load CIFAR-10 dataset\n",
        "(train_images, train_labels), (test_images, test_labels) = datasets.cifar10.load_data()"
      ]
    },
    {
      "cell_type": "code",
      "execution_count": 31,
      "metadata": {
        "id": "j67sX1AX4A9E"
      },
      "outputs": [],
      "source": [
        "# Normalize the images\n",
        "train_images = train_images.astype('float32') / 255.0\n",
        "test_images = test_images.astype('float32') / 255.0"
      ]
    },
    {
      "cell_type": "code",
      "execution_count": 32,
      "metadata": {
        "id": "8DyrRf4b4Bu8"
      },
      "outputs": [],
      "source": [
        "# Inception module\n",
        "def inception_module(x, filters):\n",
        "    f1, f3_r, f3, f5_r, f5, pool_proj = filters\n",
        "\n",
        "\n",
        "    # 1x1 convolution branch\n",
        "    conv_1x1 = layers.Conv2D(f1, (1, 1), padding='same', activation='relu')(x)\n",
        "\n",
        "\n",
        "    # 1x1 convolution followed by 3x3 convolution branch\n",
        "    conv_3x3 = layers.Conv2D(f3_r, (1, 1), padding='same', activation='relu')(x)\n",
        "    conv_3x3 = layers.Conv2D(f3, (3, 3), padding='same', activation='relu')(conv_3x3)\n",
        "\n",
        "\n",
        "    # 1x1 convolution followed by 5x5 convolution branch\n",
        "    conv_5x5 = layers.Conv2D(f5_r, (1, 1), padding='same', activation='relu')(x)\n",
        "    conv_5x5 = layers.Conv2D(f5, (5, 5), padding='same', activation='relu')(conv_5x5)\n",
        "\n",
        "\n",
        "    # 3x3 max pooling followed by 1x1 convolution branch\n",
        "    pool_proj_layer = layers.MaxPooling2D((3, 3), strides=(1, 1), padding='same')(x)\n",
        "    pool_proj_out = layers.Conv2D(pool_proj, (1, 1), padding='same', activation='relu')(pool_proj_layer)  # Use pool_proj from filters list as number of filters\n",
        "\n",
        "\n",
        "    # Concatenate the outputs of the four branches\n",
        "    output = layers.concatenate([conv_1x1, conv_3x3, conv_5x5, pool_proj_out], axis=-1)\n",
        "    return output"
      ]
    },
    {
      "cell_type": "code",
      "execution_count": 33,
      "metadata": {
        "id": "sT8DJFMZ4dxs"
      },
      "outputs": [],
      "source": [
        "# Googlenet, the complete CNN architecture\n",
        "\n",
        "def googlenet(input_shape=(32, 32, 3), num_classes=10):\n",
        "    input_layer = layers.Input(shape=input_shape)\n",
        "\n",
        "\n",
        "    # Initial layers (stem of the network)\n",
        "    x = layers.Conv2D(64, (7, 7), strides=(2, 2), padding='same', activation='relu')(input_layer)\n",
        "    x = layers.MaxPooling2D((3, 3), strides=(2, 2), padding='same')(x)\n",
        "    x = layers.Conv2D(64, (1, 1), padding='same', activation='relu')(x)\n",
        "    x = layers.Conv2D(192, (3, 3), padding='same', activation='relu')(x)\n",
        "    x = layers.MaxPooling2D((3, 3), strides=(2, 2), padding='same')(x)\n",
        "\n",
        "\n",
        "    # Inception modules\n",
        "    x = inception_module(x, [64, 96, 128, 16, 32, 32])\n",
        "    x = inception_module(x, [128, 128, 192, 32, 96, 64])\n",
        "    x = layers.MaxPooling2D((3, 3), strides=(2, 2), padding='same')(x)\n",
        "    x = inception_module(x, [192, 96, 208, 16, 48, 64])\n",
        "    x = inception_module(x, [160, 112, 224, 24, 64, 64])\n",
        "    x = inception_module(x, [128, 128, 256, 24, 64, 64])\n",
        "    x = inception_module(x, [112, 144, 288, 32, 64, 64])\n",
        "    x = inception_module(x, [256, 160, 320, 32, 128, 128])\n",
        "    x = layers.MaxPooling2D((3, 3), strides=(2, 2), padding='same')(x)\n",
        "    x = inception_module(x, [256, 160, 320, 32, 128, 128])\n",
        "    x = inception_module(x, [384, 192, 384, 48, 128, 128])\n",
        "\n",
        "\n",
        "    # Average pooling layer\n",
        "    # Use a smaller pool size or add padding to handle smaller feature maps\n",
        "    x = layers.AveragePooling2D((2, 2), strides=(1, 1), padding='same')(x)\n",
        "    x = layers.Dropout(0.4)(x)\n",
        "    x = layers.Flatten()(x)\n",
        "    output_layer = layers.Dense(num_classes, activation='softmax')(x)\n",
        "\n",
        "\n",
        "    model = models.Model(input_layer, output_layer)\n",
        "    return model\n"
      ]
    },
    {
      "cell_type": "code",
      "execution_count": 34,
      "metadata": {
        "id": "sa1mDZb74rL3",
        "colab": {
          "base_uri": "https://localhost:8080/"
        },
        "outputId": "ef17f5b3-be1b-4680-d761-6dffea8380b7"
      },
      "outputs": [
        {
          "output_type": "stream",
          "name": "stdout",
          "text": [
            "Model: \"model\"\n",
            "__________________________________________________________________________________________________\n",
            " Layer (type)                Output Shape                 Param #   Connected to                  \n",
            "==================================================================================================\n",
            " input_2 (InputLayer)        [(None, 32, 32, 3)]          0         []                            \n",
            "                                                                                                  \n",
            " conv2d_18 (Conv2D)          (None, 16, 16, 64)           9472      ['input_2[0][0]']             \n",
            "                                                                                                  \n",
            " max_pooling2d_8 (MaxPoolin  (None, 8, 8, 64)             0         ['conv2d_18[0][0]']           \n",
            " g2D)                                                                                             \n",
            "                                                                                                  \n",
            " conv2d_19 (Conv2D)          (None, 8, 8, 64)             4160      ['max_pooling2d_8[0][0]']     \n",
            "                                                                                                  \n",
            " conv2d_20 (Conv2D)          (None, 8, 8, 192)            110784    ['conv2d_19[0][0]']           \n",
            "                                                                                                  \n",
            " max_pooling2d_9 (MaxPoolin  (None, 4, 4, 192)            0         ['conv2d_20[0][0]']           \n",
            " g2D)                                                                                             \n",
            "                                                                                                  \n",
            " conv2d_22 (Conv2D)          (None, 4, 4, 96)             18528     ['max_pooling2d_9[0][0]']     \n",
            "                                                                                                  \n",
            " conv2d_24 (Conv2D)          (None, 4, 4, 16)             3088      ['max_pooling2d_9[0][0]']     \n",
            "                                                                                                  \n",
            " max_pooling2d_10 (MaxPooli  (None, 4, 4, 192)            0         ['max_pooling2d_9[0][0]']     \n",
            " ng2D)                                                                                            \n",
            "                                                                                                  \n",
            " conv2d_21 (Conv2D)          (None, 4, 4, 64)             12352     ['max_pooling2d_9[0][0]']     \n",
            "                                                                                                  \n",
            " conv2d_23 (Conv2D)          (None, 4, 4, 128)            110720    ['conv2d_22[0][0]']           \n",
            "                                                                                                  \n",
            " conv2d_25 (Conv2D)          (None, 4, 4, 32)             12832     ['conv2d_24[0][0]']           \n",
            "                                                                                                  \n",
            " conv2d_26 (Conv2D)          (None, 4, 4, 32)             6176      ['max_pooling2d_10[0][0]']    \n",
            "                                                                                                  \n",
            " concatenate (Concatenate)   (None, 4, 4, 256)            0         ['conv2d_21[0][0]',           \n",
            "                                                                     'conv2d_23[0][0]',           \n",
            "                                                                     'conv2d_25[0][0]',           \n",
            "                                                                     'conv2d_26[0][0]']           \n",
            "                                                                                                  \n",
            " conv2d_28 (Conv2D)          (None, 4, 4, 128)            32896     ['concatenate[0][0]']         \n",
            "                                                                                                  \n",
            " conv2d_30 (Conv2D)          (None, 4, 4, 32)             8224      ['concatenate[0][0]']         \n",
            "                                                                                                  \n",
            " max_pooling2d_11 (MaxPooli  (None, 4, 4, 256)            0         ['concatenate[0][0]']         \n",
            " ng2D)                                                                                            \n",
            "                                                                                                  \n",
            " conv2d_27 (Conv2D)          (None, 4, 4, 128)            32896     ['concatenate[0][0]']         \n",
            "                                                                                                  \n",
            " conv2d_29 (Conv2D)          (None, 4, 4, 192)            221376    ['conv2d_28[0][0]']           \n",
            "                                                                                                  \n",
            " conv2d_31 (Conv2D)          (None, 4, 4, 96)             76896     ['conv2d_30[0][0]']           \n",
            "                                                                                                  \n",
            " conv2d_32 (Conv2D)          (None, 4, 4, 64)             16448     ['max_pooling2d_11[0][0]']    \n",
            "                                                                                                  \n",
            " concatenate_1 (Concatenate  (None, 4, 4, 480)            0         ['conv2d_27[0][0]',           \n",
            " )                                                                   'conv2d_29[0][0]',           \n",
            "                                                                     'conv2d_31[0][0]',           \n",
            "                                                                     'conv2d_32[0][0]']           \n",
            "                                                                                                  \n",
            " max_pooling2d_12 (MaxPooli  (None, 2, 2, 480)            0         ['concatenate_1[0][0]']       \n",
            " ng2D)                                                                                            \n",
            "                                                                                                  \n",
            " conv2d_34 (Conv2D)          (None, 2, 2, 96)             46176     ['max_pooling2d_12[0][0]']    \n",
            "                                                                                                  \n",
            " conv2d_36 (Conv2D)          (None, 2, 2, 16)             7696      ['max_pooling2d_12[0][0]']    \n",
            "                                                                                                  \n",
            " max_pooling2d_13 (MaxPooli  (None, 2, 2, 480)            0         ['max_pooling2d_12[0][0]']    \n",
            " ng2D)                                                                                            \n",
            "                                                                                                  \n",
            " conv2d_33 (Conv2D)          (None, 2, 2, 192)            92352     ['max_pooling2d_12[0][0]']    \n",
            "                                                                                                  \n",
            " conv2d_35 (Conv2D)          (None, 2, 2, 208)            179920    ['conv2d_34[0][0]']           \n",
            "                                                                                                  \n",
            " conv2d_37 (Conv2D)          (None, 2, 2, 48)             19248     ['conv2d_36[0][0]']           \n",
            "                                                                                                  \n",
            " conv2d_38 (Conv2D)          (None, 2, 2, 64)             30784     ['max_pooling2d_13[0][0]']    \n",
            "                                                                                                  \n",
            " concatenate_2 (Concatenate  (None, 2, 2, 512)            0         ['conv2d_33[0][0]',           \n",
            " )                                                                   'conv2d_35[0][0]',           \n",
            "                                                                     'conv2d_37[0][0]',           \n",
            "                                                                     'conv2d_38[0][0]']           \n",
            "                                                                                                  \n",
            " conv2d_40 (Conv2D)          (None, 2, 2, 112)            57456     ['concatenate_2[0][0]']       \n",
            "                                                                                                  \n",
            " conv2d_42 (Conv2D)          (None, 2, 2, 24)             12312     ['concatenate_2[0][0]']       \n",
            "                                                                                                  \n",
            " max_pooling2d_14 (MaxPooli  (None, 2, 2, 512)            0         ['concatenate_2[0][0]']       \n",
            " ng2D)                                                                                            \n",
            "                                                                                                  \n",
            " conv2d_39 (Conv2D)          (None, 2, 2, 160)            82080     ['concatenate_2[0][0]']       \n",
            "                                                                                                  \n",
            " conv2d_41 (Conv2D)          (None, 2, 2, 224)            226016    ['conv2d_40[0][0]']           \n",
            "                                                                                                  \n",
            " conv2d_43 (Conv2D)          (None, 2, 2, 64)             38464     ['conv2d_42[0][0]']           \n",
            "                                                                                                  \n",
            " conv2d_44 (Conv2D)          (None, 2, 2, 64)             32832     ['max_pooling2d_14[0][0]']    \n",
            "                                                                                                  \n",
            " concatenate_3 (Concatenate  (None, 2, 2, 512)            0         ['conv2d_39[0][0]',           \n",
            " )                                                                   'conv2d_41[0][0]',           \n",
            "                                                                     'conv2d_43[0][0]',           \n",
            "                                                                     'conv2d_44[0][0]']           \n",
            "                                                                                                  \n",
            " conv2d_46 (Conv2D)          (None, 2, 2, 128)            65664     ['concatenate_3[0][0]']       \n",
            "                                                                                                  \n",
            " conv2d_48 (Conv2D)          (None, 2, 2, 24)             12312     ['concatenate_3[0][0]']       \n",
            "                                                                                                  \n",
            " max_pooling2d_15 (MaxPooli  (None, 2, 2, 512)            0         ['concatenate_3[0][0]']       \n",
            " ng2D)                                                                                            \n",
            "                                                                                                  \n",
            " conv2d_45 (Conv2D)          (None, 2, 2, 128)            65664     ['concatenate_3[0][0]']       \n",
            "                                                                                                  \n",
            " conv2d_47 (Conv2D)          (None, 2, 2, 256)            295168    ['conv2d_46[0][0]']           \n",
            "                                                                                                  \n",
            " conv2d_49 (Conv2D)          (None, 2, 2, 64)             38464     ['conv2d_48[0][0]']           \n",
            "                                                                                                  \n",
            " conv2d_50 (Conv2D)          (None, 2, 2, 64)             32832     ['max_pooling2d_15[0][0]']    \n",
            "                                                                                                  \n",
            " concatenate_4 (Concatenate  (None, 2, 2, 512)            0         ['conv2d_45[0][0]',           \n",
            " )                                                                   'conv2d_47[0][0]',           \n",
            "                                                                     'conv2d_49[0][0]',           \n",
            "                                                                     'conv2d_50[0][0]']           \n",
            "                                                                                                  \n",
            " conv2d_52 (Conv2D)          (None, 2, 2, 144)            73872     ['concatenate_4[0][0]']       \n",
            "                                                                                                  \n",
            " conv2d_54 (Conv2D)          (None, 2, 2, 32)             16416     ['concatenate_4[0][0]']       \n",
            "                                                                                                  \n",
            " max_pooling2d_16 (MaxPooli  (None, 2, 2, 512)            0         ['concatenate_4[0][0]']       \n",
            " ng2D)                                                                                            \n",
            "                                                                                                  \n",
            " conv2d_51 (Conv2D)          (None, 2, 2, 112)            57456     ['concatenate_4[0][0]']       \n",
            "                                                                                                  \n",
            " conv2d_53 (Conv2D)          (None, 2, 2, 288)            373536    ['conv2d_52[0][0]']           \n",
            "                                                                                                  \n",
            " conv2d_55 (Conv2D)          (None, 2, 2, 64)             51264     ['conv2d_54[0][0]']           \n",
            "                                                                                                  \n",
            " conv2d_56 (Conv2D)          (None, 2, 2, 64)             32832     ['max_pooling2d_16[0][0]']    \n",
            "                                                                                                  \n",
            " concatenate_5 (Concatenate  (None, 2, 2, 528)            0         ['conv2d_51[0][0]',           \n",
            " )                                                                   'conv2d_53[0][0]',           \n",
            "                                                                     'conv2d_55[0][0]',           \n",
            "                                                                     'conv2d_56[0][0]']           \n",
            "                                                                                                  \n",
            " conv2d_58 (Conv2D)          (None, 2, 2, 160)            84640     ['concatenate_5[0][0]']       \n",
            "                                                                                                  \n",
            " conv2d_60 (Conv2D)          (None, 2, 2, 32)             16928     ['concatenate_5[0][0]']       \n",
            "                                                                                                  \n",
            " max_pooling2d_17 (MaxPooli  (None, 2, 2, 528)            0         ['concatenate_5[0][0]']       \n",
            " ng2D)                                                                                            \n",
            "                                                                                                  \n",
            " conv2d_57 (Conv2D)          (None, 2, 2, 256)            135424    ['concatenate_5[0][0]']       \n",
            "                                                                                                  \n",
            " conv2d_59 (Conv2D)          (None, 2, 2, 320)            461120    ['conv2d_58[0][0]']           \n",
            "                                                                                                  \n",
            " conv2d_61 (Conv2D)          (None, 2, 2, 128)            102528    ['conv2d_60[0][0]']           \n",
            "                                                                                                  \n",
            " conv2d_62 (Conv2D)          (None, 2, 2, 128)            67712     ['max_pooling2d_17[0][0]']    \n",
            "                                                                                                  \n",
            " concatenate_6 (Concatenate  (None, 2, 2, 832)            0         ['conv2d_57[0][0]',           \n",
            " )                                                                   'conv2d_59[0][0]',           \n",
            "                                                                     'conv2d_61[0][0]',           \n",
            "                                                                     'conv2d_62[0][0]']           \n",
            "                                                                                                  \n",
            " max_pooling2d_18 (MaxPooli  (None, 1, 1, 832)            0         ['concatenate_6[0][0]']       \n",
            " ng2D)                                                                                            \n",
            "                                                                                                  \n",
            " conv2d_64 (Conv2D)          (None, 1, 1, 160)            133280    ['max_pooling2d_18[0][0]']    \n",
            "                                                                                                  \n",
            " conv2d_66 (Conv2D)          (None, 1, 1, 32)             26656     ['max_pooling2d_18[0][0]']    \n",
            "                                                                                                  \n",
            " max_pooling2d_19 (MaxPooli  (None, 1, 1, 832)            0         ['max_pooling2d_18[0][0]']    \n",
            " ng2D)                                                                                            \n",
            "                                                                                                  \n",
            " conv2d_63 (Conv2D)          (None, 1, 1, 256)            213248    ['max_pooling2d_18[0][0]']    \n",
            "                                                                                                  \n",
            " conv2d_65 (Conv2D)          (None, 1, 1, 320)            461120    ['conv2d_64[0][0]']           \n",
            "                                                                                                  \n",
            " conv2d_67 (Conv2D)          (None, 1, 1, 128)            102528    ['conv2d_66[0][0]']           \n",
            "                                                                                                  \n",
            " conv2d_68 (Conv2D)          (None, 1, 1, 128)            106624    ['max_pooling2d_19[0][0]']    \n",
            "                                                                                                  \n",
            " concatenate_7 (Concatenate  (None, 1, 1, 832)            0         ['conv2d_63[0][0]',           \n",
            " )                                                                   'conv2d_65[0][0]',           \n",
            "                                                                     'conv2d_67[0][0]',           \n",
            "                                                                     'conv2d_68[0][0]']           \n",
            "                                                                                                  \n",
            " conv2d_70 (Conv2D)          (None, 1, 1, 192)            159936    ['concatenate_7[0][0]']       \n",
            "                                                                                                  \n",
            " conv2d_72 (Conv2D)          (None, 1, 1, 48)             39984     ['concatenate_7[0][0]']       \n",
            "                                                                                                  \n",
            " max_pooling2d_20 (MaxPooli  (None, 1, 1, 832)            0         ['concatenate_7[0][0]']       \n",
            " ng2D)                                                                                            \n",
            "                                                                                                  \n",
            " conv2d_69 (Conv2D)          (None, 1, 1, 384)            319872    ['concatenate_7[0][0]']       \n",
            "                                                                                                  \n",
            " conv2d_71 (Conv2D)          (None, 1, 1, 384)            663936    ['conv2d_70[0][0]']           \n",
            "                                                                                                  \n",
            " conv2d_73 (Conv2D)          (None, 1, 1, 128)            153728    ['conv2d_72[0][0]']           \n",
            "                                                                                                  \n",
            " conv2d_74 (Conv2D)          (None, 1, 1, 128)            106624    ['max_pooling2d_20[0][0]']    \n",
            "                                                                                                  \n",
            " concatenate_8 (Concatenate  (None, 1, 1, 1024)           0         ['conv2d_69[0][0]',           \n",
            " )                                                                   'conv2d_71[0][0]',           \n",
            "                                                                     'conv2d_73[0][0]',           \n",
            "                                                                     'conv2d_74[0][0]']           \n",
            "                                                                                                  \n",
            " average_pooling2d (Average  (None, 1, 1, 1024)           0         ['concatenate_8[0][0]']       \n",
            " Pooling2D)                                                                                       \n",
            "                                                                                                  \n",
            " dropout_5 (Dropout)         (None, 1, 1, 1024)           0         ['average_pooling2d[0][0]']   \n",
            "                                                                                                  \n",
            " flatten_2 (Flatten)         (None, 1024)                 0         ['dropout_5[0][0]']           \n",
            "                                                                                                  \n",
            " dense_8 (Dense)             (None, 10)                   10250     ['flatten_2[0][0]']           \n",
            "                                                                                                  \n",
            "==================================================================================================\n",
            "Total params: 5983802 (22.83 MB)\n",
            "Trainable params: 5983802 (22.83 MB)\n",
            "Non-trainable params: 0 (0.00 Byte)\n",
            "__________________________________________________________________________________________________\n"
          ]
        }
      ],
      "source": [
        "model_gnet = googlenet()\n",
        "model_gnet.summary()"
      ]
    },
    {
      "cell_type": "code",
      "execution_count": 35,
      "metadata": {
        "id": "sDRzFb6i4u2L"
      },
      "outputs": [],
      "source": [
        "train_labels=to_categorical(train_labels,10)\n",
        "test_labels=to_categorical(test_labels,10)"
      ]
    },
    {
      "cell_type": "code",
      "source": [
        "# Compile the model\n",
        "model_gnet.compile(optimizer='adam',  # Choose an optimizer like Adam\n",
        "              loss='categorical_crossentropy',  # Use categorical crossentropy for multi-class classification\n",
        "              metrics=['accuracy'])"
      ],
      "metadata": {
        "id": "zkp844CHYXuz"
      },
      "execution_count": 36,
      "outputs": []
    },
    {
      "cell_type": "code",
      "execution_count": 37,
      "metadata": {
        "id": "tlxskkjf83dG",
        "colab": {
          "base_uri": "https://localhost:8080/"
        },
        "outputId": "614f213b-5daf-4e08-b3de-c608ed109fd9"
      },
      "outputs": [
        {
          "output_type": "stream",
          "name": "stdout",
          "text": [
            "Epoch 1/5\n",
            "782/782 [==============================] - 45s 31ms/step - loss: 2.3032 - accuracy: 0.0977 - val_loss: 2.3027 - val_accuracy: 0.1000 - lr: 0.0010\n",
            "Epoch 2/5\n",
            "782/782 [==============================] - 19s 24ms/step - loss: 2.3028 - accuracy: 0.0995 - val_loss: 2.3026 - val_accuracy: 0.1000 - lr: 0.0010\n",
            "Epoch 3/5\n",
            "782/782 [==============================] - 18s 23ms/step - loss: 2.3028 - accuracy: 0.0996 - val_loss: 2.3026 - val_accuracy: 0.1000 - lr: 0.0010\n",
            "Epoch 4/5\n",
            "782/782 [==============================] - 19s 24ms/step - loss: 2.3028 - accuracy: 0.0986 - val_loss: 2.3026 - val_accuracy: 0.1000 - lr: 0.0010\n",
            "Epoch 5/5\n",
            "782/782 [==============================] - 19s 24ms/step - loss: 2.3027 - accuracy: 0.0974 - val_loss: 2.3026 - val_accuracy: 0.1000 - lr: 0.0010\n"
          ]
        }
      ],
      "source": [
        "history=model_gnet.fit(train_images,train_labels,batch_size=64,epochs=5,\n",
        "                  validation_data=(test_images,test_labels),\n",
        "                  callbacks=[lr_scheduler,checkpoint_callback])"
      ]
    },
    {
      "cell_type": "markdown",
      "metadata": {
        "id": "ewf5We5C92p1"
      },
      "source": [
        "**Transfer Learning using InceptionV3**"
      ]
    },
    {
      "cell_type": "code",
      "execution_count": 38,
      "metadata": {
        "id": "HNVD9E1M859Z"
      },
      "outputs": [],
      "source": [
        "# base model\n",
        "import keras\n",
        "base_incepv3 = keras.applications.InceptionV3(\n",
        "    include_top=False,\n",
        "    weights=\"imagenet\",\n",
        "    input_tensor=None,\n",
        "    input_shape=None,\n",
        "    pooling=None,\n",
        "    classes=1000,\n",
        "    classifier_activation=\"softmax\",\n",
        ")"
      ]
    },
    {
      "cell_type": "code",
      "execution_count": 39,
      "metadata": {
        "id": "_9EwLkm4-3Hx"
      },
      "outputs": [],
      "source": [
        "# freeze the base model\n",
        "for layer in base_incepv3.layers:\n",
        "    layer.trainable = False"
      ]
    },
    {
      "cell_type": "code",
      "execution_count": 40,
      "metadata": {
        "id": "O8jc7dwi_JI9"
      },
      "outputs": [],
      "source": [
        "from tensorflow.keras.layers import GlobalAveragePooling2D, Dropout"
      ]
    },
    {
      "cell_type": "code",
      "execution_count": 41,
      "metadata": {
        "id": "LdVdO3nP_Juw",
        "colab": {
          "base_uri": "https://localhost:8080/"
        },
        "outputId": "efd13107-468a-4c4b-d91b-7ec082f03f0f"
      },
      "outputs": [
        {
          "output_type": "stream",
          "name": "stdout",
          "text": [
            "Model: \"sequential_3\"\n",
            "_________________________________________________________________\n",
            " Layer (type)                Output Shape              Param #   \n",
            "=================================================================\n",
            " inception_v3 (Functional)   (None, None, None, 2048   21802784  \n",
            "                             )                                   \n",
            "                                                                 \n",
            " global_average_pooling2d_1  (None, 2048)              0         \n",
            "  (GlobalAveragePooling2D)                                       \n",
            "                                                                 \n",
            " dense_9 (Dense)             (None, 512)               1049088   \n",
            "                                                                 \n",
            " dropout_6 (Dropout)         (None, 512)               0         \n",
            "                                                                 \n",
            " dense_10 (Dense)            (None, 10)                5130      \n",
            "                                                                 \n",
            "=================================================================\n",
            "Total params: 22857002 (87.19 MB)\n",
            "Trainable params: 1054218 (4.02 MB)\n",
            "Non-trainable params: 21802784 (83.17 MB)\n",
            "_________________________________________________________________\n"
          ]
        }
      ],
      "source": [
        "# create Architecture\n",
        "model_transfer_incepv3=Sequential([\n",
        "    base_incepv3,\n",
        "    GlobalAveragePooling2D(),\n",
        "    Dense(512,activation='relu'),\n",
        "    Dropout(0.5),\n",
        "    Dense(10,activation='softmax')\n",
        "\n",
        "])\n",
        "\n",
        "model_transfer_incepv3.summary()"
      ]
    },
    {
      "cell_type": "code",
      "execution_count": 42,
      "metadata": {
        "id": "KoWn7AJL_o9z",
        "colab": {
          "base_uri": "https://localhost:8080/"
        },
        "outputId": "2936dec8-0897-4da2-e11a-8d41cc39caaf"
      },
      "outputs": [
        {
          "output_type": "stream",
          "name": "stdout",
          "text": [
            "model is compiled\n"
          ]
        }
      ],
      "source": [
        "model_transfer_incepv3.compile(optimizer='adam',loss='categorical_crossentropy',metrics=['accuracy'])\n",
        "print('model is compiled')"
      ]
    },
    {
      "cell_type": "code",
      "source": [
        "# One-hot encode the labels\n",
        "train_labels = tf.keras.utils.to_categorical(train_labels, num_classes=10)\n",
        "test_labels = tf.keras.utils.to_categorical(test_labels, num_classes=10)"
      ],
      "metadata": {
        "id": "Qm1_-jxQoz6w"
      },
      "execution_count": 52,
      "outputs": []
    },
    {
      "cell_type": "code",
      "source": [
        "test_images.shape"
      ],
      "metadata": {
        "colab": {
          "base_uri": "https://localhost:8080/"
        },
        "id": "ZcqRklafpL-l",
        "outputId": "cfae4244-00c5-4986-8e72-0ab2e91f48d5"
      },
      "execution_count": 56,
      "outputs": [
        {
          "output_type": "execute_result",
          "data": {
            "text/plain": [
              "(10000, 32, 32, 3)"
            ]
          },
          "metadata": {},
          "execution_count": 56
        }
      ]
    },
    {
      "cell_type": "code",
      "source": [
        "train_images.shape"
      ],
      "metadata": {
        "colab": {
          "base_uri": "https://localhost:8080/"
        },
        "id": "ldgTggvnfne6",
        "outputId": "195c73fb-7e92-4599-dc6c-739b21b49397"
      },
      "execution_count": 53,
      "outputs": [
        {
          "output_type": "execute_result",
          "data": {
            "text/plain": [
              "(50000, 32, 32, 3)"
            ]
          },
          "metadata": {},
          "execution_count": 53
        }
      ]
    },
    {
      "cell_type": "code",
      "source": [
        "# Check the shape of your model's output\n",
        "print(model_transfer_incepv3.output_shape)\n",
        "\n",
        "# Check the number of classes in your one-hot encoded labels\n",
        "print(test_labels.shape[1])"
      ],
      "metadata": {
        "colab": {
          "base_uri": "https://localhost:8080/"
        },
        "id": "guMTuVAvp6v3",
        "outputId": "6381f1a2-7585-46dd-ba2f-f985be503a49"
      },
      "execution_count": 62,
      "outputs": [
        {
          "output_type": "stream",
          "name": "stdout",
          "text": [
            "(None, 10)\n",
            "10\n"
          ]
        }
      ]
    },
    {
      "cell_type": "code",
      "execution_count": 64,
      "metadata": {
        "id": "yKQ9rBcT_vzf",
        "colab": {
          "base_uri": "https://localhost:8080/",
          "height": 193
        },
        "outputId": "914fa885-8278-4d4a-f7d4-6367dadbab18"
      },
      "outputs": [
        {
          "output_type": "error",
          "ename": "TypeError",
          "evalue": "ImageDataGenerator.flow() got an unexpected keyword argument 'target_size'",
          "traceback": [
            "\u001b[0;31m---------------------------------------------------------------------------\u001b[0m",
            "\u001b[0;31mTypeError\u001b[0m                                 Traceback (most recent call last)",
            "\u001b[0;32m<ipython-input-64-c931d7f01a7a>\u001b[0m in \u001b[0;36m<cell line: 1>\u001b[0;34m()\u001b[0m\n\u001b[0;32m----> 1\u001b[0;31m history=model_transfer_incepv3.fit(datagen.flow(train_images,train_labels,batch_size=64,target_size=(299,299)),epochs=5,\n\u001b[0m\u001b[1;32m      2\u001b[0m                   \u001b[0mvalidation_data\u001b[0m\u001b[0;34m=\u001b[0m\u001b[0;34m(\u001b[0m\u001b[0mtest_images\u001b[0m\u001b[0;34m,\u001b[0m\u001b[0mtest_labels\u001b[0m\u001b[0;34m)\u001b[0m\u001b[0;34m,\u001b[0m\u001b[0;34m\u001b[0m\u001b[0;34m\u001b[0m\u001b[0m\n\u001b[1;32m      3\u001b[0m                   callbacks=[lr_scheduler,checkpoint_callback])\n",
            "\u001b[0;31mTypeError\u001b[0m: ImageDataGenerator.flow() got an unexpected keyword argument 'target_size'"
          ]
        }
      ],
      "source": [
        "history=model_transfer_incepv3.fit(datagen.flow(train_images,train_labels,batch_size=64,target_size=(299,299)),epochs=5,\n",
        "                  validation_data=(test_images,test_labels),\n",
        "                  callbacks=[lr_scheduler,checkpoint_callback])"
      ]
    },
    {
      "cell_type": "markdown",
      "metadata": {
        "id": "5Sa_3R9cCNJw"
      },
      "source": [
        "**ResNet\n",
        "Identity Block**"
      ]
    },
    {
      "cell_type": "code",
      "execution_count": 46,
      "metadata": {
        "id": "JIaeXHfvCJws"
      },
      "outputs": [],
      "source": [
        "def identity_block(X, filters):\n",
        "    F1, F2 = filters\n",
        "\n",
        "    # Save the input value\n",
        "    X_shortcut = X\n",
        "\n",
        "    # First component of main path\n",
        "    X = layers.Conv2D(F1, (3, 3), padding='same')(X)\n",
        "    X = layers.BatchNormalization()(X)\n",
        "    X = layers.Activation('relu')(X)\n",
        "\n",
        "    # Second component of main path\n",
        "    X = layers.Conv2D(F2, (3, 3), padding='same')(X)\n",
        "    X = layers.BatchNormalization()(X)\n",
        "\n",
        "    # Add shortcut value to main path\n",
        "    X = layers.Add()([X, X_shortcut])\n",
        "    X = layers.Activation('relu')(X)\n",
        "\n",
        "    return X\n"
      ]
    },
    {
      "cell_type": "code",
      "execution_count": 47,
      "metadata": {
        "id": "g25qTgxzCvwB"
      },
      "outputs": [],
      "source": [
        "def convolutional_block(X, filters, strides=(2, 2)):\n",
        "    F1, F2 = filters\n",
        "\n",
        "    # Save the input value\n",
        "    X_shortcut = X\n",
        "\n",
        "\n",
        "    # First component of main path\n",
        "    X = layers.Conv2D(F1, (3, 3), strides=strides, padding='same')(X)\n",
        "    X = layers.BatchNormalization()(X)\n",
        "    X = layers.Activation('relu')(X)\n",
        "\n",
        "    # Second component of main path\n",
        "    X = layers.Conv2D(F2, (3, 3), padding='same')(X)\n",
        "    X = layers.BatchNormalization()(X)\n",
        "\n",
        "    # Shortcut path\n",
        "    X_shortcut = layers.Conv2D(F2, (1, 1), strides=strides, padding='same')(X_shortcut)\n",
        "    X_shortcut = layers.BatchNormalization()(X_shortcut)\n",
        "\n",
        "    # Add shortcut value to main path\n",
        "    X = layers.Add()([X, X_shortcut])\n",
        "    X = layers.Activation('relu')(X)\n",
        "\n",
        "    return X\n"
      ]
    },
    {
      "cell_type": "code",
      "execution_count": 48,
      "metadata": {
        "id": "fZ_KSnj2C7KH"
      },
      "outputs": [],
      "source": [
        "def ResNet(input_shape=(32, 32, 3), classes=10):\n",
        "    # Define the input as a tensor with shape input_shape\n",
        "    X_input = layers.Input(input_shape)\n",
        "\n",
        "\n",
        "    # Zero-Padding\n",
        "    X = layers.ZeroPadding2D((3, 3))(X_input)\n",
        "\n",
        "    # Stage 1\n",
        "    X = layers.Conv2D(64, (3, 3), strides=(1, 1), padding='same')(X)\n",
        "    X = layers.BatchNormalization()(X)\n",
        "    X = layers.Activation('relu')(X)\n",
        "    X = layers.MaxPooling2D((3, 3), strides=(1, 1), padding='same')(X)\n",
        "\n",
        "\n",
        "    # Stage 2\n",
        "    X = convolutional_block(X, filters=[64, 64], strides=(1, 1))\n",
        "    X = identity_block(X, filters=[64, 64])\n",
        "\n",
        "\n",
        "    # Stage 3\n",
        "    X = convolutional_block(X, filters=[128, 128], strides=(2, 2))\n",
        "    X = identity_block(X, filters=[128, 128])\n",
        "\n",
        "\n",
        "    # Stage 4\n",
        "    X = convolutional_block(X, filters=[256, 256], strides=(2, 2))\n",
        "    X = identity_block(X, filters=[256, 256])\n",
        "\n",
        "\n",
        "    # Stage 5\n",
        "    X = convolutional_block(X, filters=[512, 512], strides=(2, 2))\n",
        "    X = identity_block(X, filters=[512, 512])\n",
        "\n",
        "\n",
        "    # Average Pooling\n",
        "    X = layers.AveragePooling2D(pool_size=(2, 2))(X)\n",
        "\n",
        "    # Output layer\n",
        "    X = layers.Flatten()(X)\n",
        "    X = layers.Dense(classes, activation='softmax')(X)\n",
        "\n",
        "    # Create model\n",
        "    model = models.Model(inputs=X_input, outputs=X, name='ResNet')\n",
        "\n",
        "\n",
        "    return model\n"
      ]
    },
    {
      "cell_type": "code",
      "execution_count": 49,
      "metadata": {
        "id": "jhgNpVDjDGw0",
        "colab": {
          "base_uri": "https://localhost:8080/"
        },
        "outputId": "4c0c1e04-347e-49ff-8597-d6ca81afaf89"
      },
      "outputs": [
        {
          "output_type": "stream",
          "name": "stdout",
          "text": [
            "Model: \"ResNet\"\n",
            "__________________________________________________________________________________________________\n",
            " Layer (type)                Output Shape                 Param #   Connected to                  \n",
            "==================================================================================================\n",
            " input_4 (InputLayer)        [(None, 32, 32, 3)]          0         []                            \n",
            "                                                                                                  \n",
            " zero_padding2d (ZeroPaddin  (None, 38, 38, 3)            0         ['input_4[0][0]']             \n",
            " g2D)                                                                                             \n",
            "                                                                                                  \n",
            " conv2d_169 (Conv2D)         (None, 38, 38, 64)           1792      ['zero_padding2d[0][0]']      \n",
            "                                                                                                  \n",
            " batch_normalization_96 (Ba  (None, 38, 38, 64)           256       ['conv2d_169[0][0]']          \n",
            " tchNormalization)                                                                                \n",
            "                                                                                                  \n",
            " activation_94 (Activation)  (None, 38, 38, 64)           0         ['batch_normalization_96[0][0]\n",
            "                                                                    ']                            \n",
            "                                                                                                  \n",
            " max_pooling2d_25 (MaxPooli  (None, 38, 38, 64)           0         ['activation_94[0][0]']       \n",
            " ng2D)                                                                                            \n",
            "                                                                                                  \n",
            " conv2d_170 (Conv2D)         (None, 38, 38, 64)           36928     ['max_pooling2d_25[0][0]']    \n",
            "                                                                                                  \n",
            " batch_normalization_97 (Ba  (None, 38, 38, 64)           256       ['conv2d_170[0][0]']          \n",
            " tchNormalization)                                                                                \n",
            "                                                                                                  \n",
            " activation_95 (Activation)  (None, 38, 38, 64)           0         ['batch_normalization_97[0][0]\n",
            "                                                                    ']                            \n",
            "                                                                                                  \n",
            " conv2d_171 (Conv2D)         (None, 38, 38, 64)           36928     ['activation_95[0][0]']       \n",
            "                                                                                                  \n",
            " conv2d_172 (Conv2D)         (None, 38, 38, 64)           4160      ['max_pooling2d_25[0][0]']    \n",
            "                                                                                                  \n",
            " batch_normalization_98 (Ba  (None, 38, 38, 64)           256       ['conv2d_171[0][0]']          \n",
            " tchNormalization)                                                                                \n",
            "                                                                                                  \n",
            " batch_normalization_99 (Ba  (None, 38, 38, 64)           256       ['conv2d_172[0][0]']          \n",
            " tchNormalization)                                                                                \n",
            "                                                                                                  \n",
            " add (Add)                   (None, 38, 38, 64)           0         ['batch_normalization_98[0][0]\n",
            "                                                                    ',                            \n",
            "                                                                     'batch_normalization_99[0][0]\n",
            "                                                                    ']                            \n",
            "                                                                                                  \n",
            " activation_96 (Activation)  (None, 38, 38, 64)           0         ['add[0][0]']                 \n",
            "                                                                                                  \n",
            " conv2d_173 (Conv2D)         (None, 38, 38, 64)           36928     ['activation_96[0][0]']       \n",
            "                                                                                                  \n",
            " batch_normalization_100 (B  (None, 38, 38, 64)           256       ['conv2d_173[0][0]']          \n",
            " atchNormalization)                                                                               \n",
            "                                                                                                  \n",
            " activation_97 (Activation)  (None, 38, 38, 64)           0         ['batch_normalization_100[0][0\n",
            "                                                                    ]']                           \n",
            "                                                                                                  \n",
            " conv2d_174 (Conv2D)         (None, 38, 38, 64)           36928     ['activation_97[0][0]']       \n",
            "                                                                                                  \n",
            " batch_normalization_101 (B  (None, 38, 38, 64)           256       ['conv2d_174[0][0]']          \n",
            " atchNormalization)                                                                               \n",
            "                                                                                                  \n",
            " add_1 (Add)                 (None, 38, 38, 64)           0         ['batch_normalization_101[0][0\n",
            "                                                                    ]',                           \n",
            "                                                                     'activation_96[0][0]']       \n",
            "                                                                                                  \n",
            " activation_98 (Activation)  (None, 38, 38, 64)           0         ['add_1[0][0]']               \n",
            "                                                                                                  \n",
            " conv2d_175 (Conv2D)         (None, 19, 19, 128)          73856     ['activation_98[0][0]']       \n",
            "                                                                                                  \n",
            " batch_normalization_102 (B  (None, 19, 19, 128)          512       ['conv2d_175[0][0]']          \n",
            " atchNormalization)                                                                               \n",
            "                                                                                                  \n",
            " activation_99 (Activation)  (None, 19, 19, 128)          0         ['batch_normalization_102[0][0\n",
            "                                                                    ]']                           \n",
            "                                                                                                  \n",
            " conv2d_176 (Conv2D)         (None, 19, 19, 128)          147584    ['activation_99[0][0]']       \n",
            "                                                                                                  \n",
            " conv2d_177 (Conv2D)         (None, 19, 19, 128)          8320      ['activation_98[0][0]']       \n",
            "                                                                                                  \n",
            " batch_normalization_103 (B  (None, 19, 19, 128)          512       ['conv2d_176[0][0]']          \n",
            " atchNormalization)                                                                               \n",
            "                                                                                                  \n",
            " batch_normalization_104 (B  (None, 19, 19, 128)          512       ['conv2d_177[0][0]']          \n",
            " atchNormalization)                                                                               \n",
            "                                                                                                  \n",
            " add_2 (Add)                 (None, 19, 19, 128)          0         ['batch_normalization_103[0][0\n",
            "                                                                    ]',                           \n",
            "                                                                     'batch_normalization_104[0][0\n",
            "                                                                    ]']                           \n",
            "                                                                                                  \n",
            " activation_100 (Activation  (None, 19, 19, 128)          0         ['add_2[0][0]']               \n",
            " )                                                                                                \n",
            "                                                                                                  \n",
            " conv2d_178 (Conv2D)         (None, 19, 19, 128)          147584    ['activation_100[0][0]']      \n",
            "                                                                                                  \n",
            " batch_normalization_105 (B  (None, 19, 19, 128)          512       ['conv2d_178[0][0]']          \n",
            " atchNormalization)                                                                               \n",
            "                                                                                                  \n",
            " activation_101 (Activation  (None, 19, 19, 128)          0         ['batch_normalization_105[0][0\n",
            " )                                                                  ]']                           \n",
            "                                                                                                  \n",
            " conv2d_179 (Conv2D)         (None, 19, 19, 128)          147584    ['activation_101[0][0]']      \n",
            "                                                                                                  \n",
            " batch_normalization_106 (B  (None, 19, 19, 128)          512       ['conv2d_179[0][0]']          \n",
            " atchNormalization)                                                                               \n",
            "                                                                                                  \n",
            " add_3 (Add)                 (None, 19, 19, 128)          0         ['batch_normalization_106[0][0\n",
            "                                                                    ]',                           \n",
            "                                                                     'activation_100[0][0]']      \n",
            "                                                                                                  \n",
            " activation_102 (Activation  (None, 19, 19, 128)          0         ['add_3[0][0]']               \n",
            " )                                                                                                \n",
            "                                                                                                  \n",
            " conv2d_180 (Conv2D)         (None, 10, 10, 256)          295168    ['activation_102[0][0]']      \n",
            "                                                                                                  \n",
            " batch_normalization_107 (B  (None, 10, 10, 256)          1024      ['conv2d_180[0][0]']          \n",
            " atchNormalization)                                                                               \n",
            "                                                                                                  \n",
            " activation_103 (Activation  (None, 10, 10, 256)          0         ['batch_normalization_107[0][0\n",
            " )                                                                  ]']                           \n",
            "                                                                                                  \n",
            " conv2d_181 (Conv2D)         (None, 10, 10, 256)          590080    ['activation_103[0][0]']      \n",
            "                                                                                                  \n",
            " conv2d_182 (Conv2D)         (None, 10, 10, 256)          33024     ['activation_102[0][0]']      \n",
            "                                                                                                  \n",
            " batch_normalization_108 (B  (None, 10, 10, 256)          1024      ['conv2d_181[0][0]']          \n",
            " atchNormalization)                                                                               \n",
            "                                                                                                  \n",
            " batch_normalization_109 (B  (None, 10, 10, 256)          1024      ['conv2d_182[0][0]']          \n",
            " atchNormalization)                                                                               \n",
            "                                                                                                  \n",
            " add_4 (Add)                 (None, 10, 10, 256)          0         ['batch_normalization_108[0][0\n",
            "                                                                    ]',                           \n",
            "                                                                     'batch_normalization_109[0][0\n",
            "                                                                    ]']                           \n",
            "                                                                                                  \n",
            " activation_104 (Activation  (None, 10, 10, 256)          0         ['add_4[0][0]']               \n",
            " )                                                                                                \n",
            "                                                                                                  \n",
            " conv2d_183 (Conv2D)         (None, 10, 10, 256)          590080    ['activation_104[0][0]']      \n",
            "                                                                                                  \n",
            " batch_normalization_110 (B  (None, 10, 10, 256)          1024      ['conv2d_183[0][0]']          \n",
            " atchNormalization)                                                                               \n",
            "                                                                                                  \n",
            " activation_105 (Activation  (None, 10, 10, 256)          0         ['batch_normalization_110[0][0\n",
            " )                                                                  ]']                           \n",
            "                                                                                                  \n",
            " conv2d_184 (Conv2D)         (None, 10, 10, 256)          590080    ['activation_105[0][0]']      \n",
            "                                                                                                  \n",
            " batch_normalization_111 (B  (None, 10, 10, 256)          1024      ['conv2d_184[0][0]']          \n",
            " atchNormalization)                                                                               \n",
            "                                                                                                  \n",
            " add_5 (Add)                 (None, 10, 10, 256)          0         ['batch_normalization_111[0][0\n",
            "                                                                    ]',                           \n",
            "                                                                     'activation_104[0][0]']      \n",
            "                                                                                                  \n",
            " activation_106 (Activation  (None, 10, 10, 256)          0         ['add_5[0][0]']               \n",
            " )                                                                                                \n",
            "                                                                                                  \n",
            " conv2d_185 (Conv2D)         (None, 5, 5, 512)            1180160   ['activation_106[0][0]']      \n",
            "                                                                                                  \n",
            " batch_normalization_112 (B  (None, 5, 5, 512)            2048      ['conv2d_185[0][0]']          \n",
            " atchNormalization)                                                                               \n",
            "                                                                                                  \n",
            " activation_107 (Activation  (None, 5, 5, 512)            0         ['batch_normalization_112[0][0\n",
            " )                                                                  ]']                           \n",
            "                                                                                                  \n",
            " conv2d_186 (Conv2D)         (None, 5, 5, 512)            2359808   ['activation_107[0][0]']      \n",
            "                                                                                                  \n",
            " conv2d_187 (Conv2D)         (None, 5, 5, 512)            131584    ['activation_106[0][0]']      \n",
            "                                                                                                  \n",
            " batch_normalization_113 (B  (None, 5, 5, 512)            2048      ['conv2d_186[0][0]']          \n",
            " atchNormalization)                                                                               \n",
            "                                                                                                  \n",
            " batch_normalization_114 (B  (None, 5, 5, 512)            2048      ['conv2d_187[0][0]']          \n",
            " atchNormalization)                                                                               \n",
            "                                                                                                  \n",
            " add_6 (Add)                 (None, 5, 5, 512)            0         ['batch_normalization_113[0][0\n",
            "                                                                    ]',                           \n",
            "                                                                     'batch_normalization_114[0][0\n",
            "                                                                    ]']                           \n",
            "                                                                                                  \n",
            " activation_108 (Activation  (None, 5, 5, 512)            0         ['add_6[0][0]']               \n",
            " )                                                                                                \n",
            "                                                                                                  \n",
            " conv2d_188 (Conv2D)         (None, 5, 5, 512)            2359808   ['activation_108[0][0]']      \n",
            "                                                                                                  \n",
            " batch_normalization_115 (B  (None, 5, 5, 512)            2048      ['conv2d_188[0][0]']          \n",
            " atchNormalization)                                                                               \n",
            "                                                                                                  \n",
            " activation_109 (Activation  (None, 5, 5, 512)            0         ['batch_normalization_115[0][0\n",
            " )                                                                  ]']                           \n",
            "                                                                                                  \n",
            " conv2d_189 (Conv2D)         (None, 5, 5, 512)            2359808   ['activation_109[0][0]']      \n",
            "                                                                                                  \n",
            " batch_normalization_116 (B  (None, 5, 5, 512)            2048      ['conv2d_189[0][0]']          \n",
            " atchNormalization)                                                                               \n",
            "                                                                                                  \n",
            " add_7 (Add)                 (None, 5, 5, 512)            0         ['batch_normalization_116[0][0\n",
            "                                                                    ]',                           \n",
            "                                                                     'activation_108[0][0]']      \n",
            "                                                                                                  \n",
            " activation_110 (Activation  (None, 5, 5, 512)            0         ['add_7[0][0]']               \n",
            " )                                                                                                \n",
            "                                                                                                  \n",
            " average_pooling2d_10 (Aver  (None, 2, 2, 512)            0         ['activation_110[0][0]']      \n",
            " agePooling2D)                                                                                    \n",
            "                                                                                                  \n",
            " flatten_3 (Flatten)         (None, 2048)                 0         ['average_pooling2d_10[0][0]']\n",
            "                                                                                                  \n",
            " dense_11 (Dense)            (None, 10)                   20490     ['flatten_3[0][0]']           \n",
            "                                                                                                  \n",
            "==================================================================================================\n",
            "Total params: 11208138 (42.76 MB)\n",
            "Trainable params: 11198410 (42.72 MB)\n",
            "Non-trainable params: 9728 (38.00 KB)\n",
            "__________________________________________________________________________________________________\n"
          ]
        }
      ],
      "source": [
        "# Create the model\n",
        "model = ResNet(input_shape=(32, 32, 3), classes=10)\n",
        "model.compile(optimizer='adam', loss='categorical_crossentropy', metrics=['accuracy'])\n",
        "model.summary()\n"
      ]
    }
  ],
  "metadata": {
    "accelerator": "GPU",
    "colab": {
      "gpuType": "T4",
      "provenance": [],
      "authorship_tag": "ABX9TyNC35ATcldaTdIyxcW3iYLG",
      "include_colab_link": true
    },
    "kernelspec": {
      "display_name": "Python 3",
      "name": "python3"
    },
    "language_info": {
      "name": "python"
    }
  },
  "nbformat": 4,
  "nbformat_minor": 0
}